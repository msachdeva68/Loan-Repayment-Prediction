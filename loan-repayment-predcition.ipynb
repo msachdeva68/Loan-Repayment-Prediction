{
 "cells": [
  {
   "cell_type": "markdown",
   "metadata": {},
   "source": [
    "# Loan Repayment Prediction"
   ]
  },
  {
   "cell_type": "markdown",
   "metadata": {},
   "source": [
    "> Welcome to KnowledgeHut AI hackathon – Loan Repayment Assessment in Banking. You are required  to build and train a model that identifies a customer will repay or default from the loan dataset. This  dataset is included in loan data, and provides a challenging classifier that will test what you have learnt  in this course"
   ]
  },
  {
   "cell_type": "markdown",
   "metadata": {},
   "source": [
    "Table Content"
   ]
  },
  {
   "cell_type": "markdown",
   "metadata": {},
   "source": [
    "# Data Collection"
   ]
  },
  {
   "cell_type": "code",
   "execution_count": 16,
   "metadata": {},
   "outputs": [],
   "source": [
    "# importing the libraries to use for uploading data\n",
    "import pandas as pd\n",
    "import numpy as np\n",
    "import warnings\n",
    "\n",
    "warnings.filterwarnings('ignore')\n",
    "\n",
    "import matplotlib as mpl\n",
    "import matplotlib.pyplot as plt\n",
    "import seaborn as sns\n",
    "\n"
   ]
  },
  {
   "cell_type": "code",
   "execution_count": 17,
   "metadata": {},
   "outputs": [],
   "source": [
    "# uploading the teleco churn data into pandas dataframe\n",
    "train_df = pd.read_csv('/Users/mrinalsachdeva/loan-repayment-prediction/Data/train_loan_data.csv')\n",
    "test_df = pd.read_csv('/Users/mrinalsachdeva/loan-repayment-prediction/Data/test_loan_data.csv')"
   ]
  },
  {
   "cell_type": "code",
   "execution_count": 18,
   "metadata": {},
   "outputs": [
    {
     "data": {
      "text/html": [
       "<div>\n",
       "<style scoped>\n",
       "    .dataframe tbody tr th:only-of-type {\n",
       "        vertical-align: middle;\n",
       "    }\n",
       "\n",
       "    .dataframe tbody tr th {\n",
       "        vertical-align: top;\n",
       "    }\n",
       "\n",
       "    .dataframe thead th {\n",
       "        text-align: right;\n",
       "    }\n",
       "</style>\n",
       "<table border=\"1\" class=\"dataframe\">\n",
       "  <thead>\n",
       "    <tr style=\"text-align: right;\">\n",
       "      <th></th>\n",
       "      <th>addr_state</th>\n",
       "      <th>annual_inc</th>\n",
       "      <th>earliest_cr_line</th>\n",
       "      <th>emp_length</th>\n",
       "      <th>emp_title</th>\n",
       "      <th>fico_range_high</th>\n",
       "      <th>fico_range_low</th>\n",
       "      <th>grade</th>\n",
       "      <th>home_ownership</th>\n",
       "      <th>application_type</th>\n",
       "      <th>...</th>\n",
       "      <th>pub_rec_bankruptcies</th>\n",
       "      <th>purpose</th>\n",
       "      <th>revol_bal</th>\n",
       "      <th>revol_util</th>\n",
       "      <th>sub_grade</th>\n",
       "      <th>term</th>\n",
       "      <th>title</th>\n",
       "      <th>total_acc</th>\n",
       "      <th>verification_status</th>\n",
       "      <th>loan_status</th>\n",
       "    </tr>\n",
       "  </thead>\n",
       "  <tbody>\n",
       "    <tr>\n",
       "      <th>0</th>\n",
       "      <td>CO</td>\n",
       "      <td>85000.0</td>\n",
       "      <td>Jul-97</td>\n",
       "      <td>10+ years</td>\n",
       "      <td>Deputy</td>\n",
       "      <td>744</td>\n",
       "      <td>740</td>\n",
       "      <td>E</td>\n",
       "      <td>MORTGAGE</td>\n",
       "      <td>Individual</td>\n",
       "      <td>...</td>\n",
       "      <td>0.0</td>\n",
       "      <td>debt_consolidation</td>\n",
       "      <td>5338</td>\n",
       "      <td>93.6</td>\n",
       "      <td>E1</td>\n",
       "      <td>60 months</td>\n",
       "      <td>Debt consolidation</td>\n",
       "      <td>8</td>\n",
       "      <td>Source Verified</td>\n",
       "      <td>Defaulted</td>\n",
       "    </tr>\n",
       "    <tr>\n",
       "      <th>1</th>\n",
       "      <td>CA</td>\n",
       "      <td>40000.0</td>\n",
       "      <td>Apr-87</td>\n",
       "      <td>10+ years</td>\n",
       "      <td>Department of Veterans Affairs</td>\n",
       "      <td>724</td>\n",
       "      <td>720</td>\n",
       "      <td>B</td>\n",
       "      <td>RENT</td>\n",
       "      <td>Individual</td>\n",
       "      <td>...</td>\n",
       "      <td>0.0</td>\n",
       "      <td>debt_consolidation</td>\n",
       "      <td>19944</td>\n",
       "      <td>60.3</td>\n",
       "      <td>B1</td>\n",
       "      <td>36 months</td>\n",
       "      <td>Credit Loan</td>\n",
       "      <td>12</td>\n",
       "      <td>Verified</td>\n",
       "      <td>Paid</td>\n",
       "    </tr>\n",
       "    <tr>\n",
       "      <th>2</th>\n",
       "      <td>FL</td>\n",
       "      <td>60000.0</td>\n",
       "      <td>Aug-07</td>\n",
       "      <td>10+ years</td>\n",
       "      <td>Marble polishing</td>\n",
       "      <td>679</td>\n",
       "      <td>675</td>\n",
       "      <td>B</td>\n",
       "      <td>MORTGAGE</td>\n",
       "      <td>Individual</td>\n",
       "      <td>...</td>\n",
       "      <td>0.0</td>\n",
       "      <td>debt_consolidation</td>\n",
       "      <td>23199</td>\n",
       "      <td>88.5</td>\n",
       "      <td>B5</td>\n",
       "      <td>36 months</td>\n",
       "      <td>Debt consolidation</td>\n",
       "      <td>16</td>\n",
       "      <td>Source Verified</td>\n",
       "      <td>Paid</td>\n",
       "    </tr>\n",
       "    <tr>\n",
       "      <th>3</th>\n",
       "      <td>IL</td>\n",
       "      <td>100742.0</td>\n",
       "      <td>Sep-80</td>\n",
       "      <td>10+ years</td>\n",
       "      <td>printer</td>\n",
       "      <td>664</td>\n",
       "      <td>660</td>\n",
       "      <td>B</td>\n",
       "      <td>MORTGAGE</td>\n",
       "      <td>Individual</td>\n",
       "      <td>...</td>\n",
       "      <td>0.0</td>\n",
       "      <td>debt_consolidation</td>\n",
       "      <td>18425</td>\n",
       "      <td>69.0</td>\n",
       "      <td>B2</td>\n",
       "      <td>36 months</td>\n",
       "      <td>Debt consolidation</td>\n",
       "      <td>19</td>\n",
       "      <td>Source Verified</td>\n",
       "      <td>Paid</td>\n",
       "    </tr>\n",
       "    <tr>\n",
       "      <th>4</th>\n",
       "      <td>MD</td>\n",
       "      <td>80000.0</td>\n",
       "      <td>Jul-99</td>\n",
       "      <td>10+ years</td>\n",
       "      <td>Southern Mgmt</td>\n",
       "      <td>669</td>\n",
       "      <td>665</td>\n",
       "      <td>F</td>\n",
       "      <td>RENT</td>\n",
       "      <td>Individual</td>\n",
       "      <td>...</td>\n",
       "      <td>0.0</td>\n",
       "      <td>debt_consolidation</td>\n",
       "      <td>34370</td>\n",
       "      <td>90.0</td>\n",
       "      <td>F5</td>\n",
       "      <td>60 months</td>\n",
       "      <td>Debt Connsolidation</td>\n",
       "      <td>59</td>\n",
       "      <td>Verified</td>\n",
       "      <td>Paid</td>\n",
       "    </tr>\n",
       "    <tr>\n",
       "      <th>...</th>\n",
       "      <td>...</td>\n",
       "      <td>...</td>\n",
       "      <td>...</td>\n",
       "      <td>...</td>\n",
       "      <td>...</td>\n",
       "      <td>...</td>\n",
       "      <td>...</td>\n",
       "      <td>...</td>\n",
       "      <td>...</td>\n",
       "      <td>...</td>\n",
       "      <td>...</td>\n",
       "      <td>...</td>\n",
       "      <td>...</td>\n",
       "      <td>...</td>\n",
       "      <td>...</td>\n",
       "      <td>...</td>\n",
       "      <td>...</td>\n",
       "      <td>...</td>\n",
       "      <td>...</td>\n",
       "      <td>...</td>\n",
       "      <td>...</td>\n",
       "    </tr>\n",
       "    <tr>\n",
       "      <th>79995</th>\n",
       "      <td>SC</td>\n",
       "      <td>81000.0</td>\n",
       "      <td>Feb-00</td>\n",
       "      <td>10+ years</td>\n",
       "      <td>Sports Group Manager</td>\n",
       "      <td>664</td>\n",
       "      <td>660</td>\n",
       "      <td>G</td>\n",
       "      <td>MORTGAGE</td>\n",
       "      <td>Individual</td>\n",
       "      <td>...</td>\n",
       "      <td>0.0</td>\n",
       "      <td>debt_consolidation</td>\n",
       "      <td>20201</td>\n",
       "      <td>93.5</td>\n",
       "      <td>G3</td>\n",
       "      <td>60 months</td>\n",
       "      <td>Debt consolidation</td>\n",
       "      <td>42</td>\n",
       "      <td>Verified</td>\n",
       "      <td>Defaulted</td>\n",
       "    </tr>\n",
       "    <tr>\n",
       "      <th>79996</th>\n",
       "      <td>NH</td>\n",
       "      <td>45000.0</td>\n",
       "      <td>Aug-95</td>\n",
       "      <td>10+ years</td>\n",
       "      <td>Web Designer</td>\n",
       "      <td>684</td>\n",
       "      <td>680</td>\n",
       "      <td>C</td>\n",
       "      <td>MORTGAGE</td>\n",
       "      <td>Individual</td>\n",
       "      <td>...</td>\n",
       "      <td>0.0</td>\n",
       "      <td>debt_consolidation</td>\n",
       "      <td>6145</td>\n",
       "      <td>56.9</td>\n",
       "      <td>C1</td>\n",
       "      <td>36 months</td>\n",
       "      <td>Debt consolidation</td>\n",
       "      <td>14</td>\n",
       "      <td>Not Verified</td>\n",
       "      <td>Paid</td>\n",
       "    </tr>\n",
       "    <tr>\n",
       "      <th>79997</th>\n",
       "      <td>NY</td>\n",
       "      <td>90000.0</td>\n",
       "      <td>Apr-05</td>\n",
       "      <td>&lt; 1 year</td>\n",
       "      <td>Program Officer</td>\n",
       "      <td>724</td>\n",
       "      <td>720</td>\n",
       "      <td>B</td>\n",
       "      <td>OWN</td>\n",
       "      <td>Individual</td>\n",
       "      <td>...</td>\n",
       "      <td>0.0</td>\n",
       "      <td>debt_consolidation</td>\n",
       "      <td>3910</td>\n",
       "      <td>25.6</td>\n",
       "      <td>B4</td>\n",
       "      <td>36 months</td>\n",
       "      <td>Debt consolidation</td>\n",
       "      <td>26</td>\n",
       "      <td>Source Verified</td>\n",
       "      <td>Paid</td>\n",
       "    </tr>\n",
       "    <tr>\n",
       "      <th>79998</th>\n",
       "      <td>TX</td>\n",
       "      <td>94000.0</td>\n",
       "      <td>Apr-92</td>\n",
       "      <td>3 years</td>\n",
       "      <td>Sr. Business Analyst</td>\n",
       "      <td>669</td>\n",
       "      <td>665</td>\n",
       "      <td>D</td>\n",
       "      <td>MORTGAGE</td>\n",
       "      <td>Individual</td>\n",
       "      <td>...</td>\n",
       "      <td>1.0</td>\n",
       "      <td>credit_card</td>\n",
       "      <td>11897</td>\n",
       "      <td>49.4</td>\n",
       "      <td>D5</td>\n",
       "      <td>60 months</td>\n",
       "      <td>Credit card refinancing</td>\n",
       "      <td>48</td>\n",
       "      <td>Source Verified</td>\n",
       "      <td>Paid</td>\n",
       "    </tr>\n",
       "    <tr>\n",
       "      <th>79999</th>\n",
       "      <td>NY</td>\n",
       "      <td>1100000.0</td>\n",
       "      <td>Jun-99</td>\n",
       "      <td>2 years</td>\n",
       "      <td>Managing Director</td>\n",
       "      <td>664</td>\n",
       "      <td>660</td>\n",
       "      <td>B</td>\n",
       "      <td>MORTGAGE</td>\n",
       "      <td>Individual</td>\n",
       "      <td>...</td>\n",
       "      <td>0.0</td>\n",
       "      <td>debt_consolidation</td>\n",
       "      <td>586259</td>\n",
       "      <td>96.7</td>\n",
       "      <td>B4</td>\n",
       "      <td>36 months</td>\n",
       "      <td>Debt consolidation</td>\n",
       "      <td>32</td>\n",
       "      <td>Source Verified</td>\n",
       "      <td>Paid</td>\n",
       "    </tr>\n",
       "  </tbody>\n",
       "</table>\n",
       "<p>80000 rows × 28 columns</p>\n",
       "</div>"
      ],
      "text/plain": [
       "      addr_state  annual_inc earliest_cr_line emp_length  \\\n",
       "0             CO     85000.0           Jul-97  10+ years   \n",
       "1             CA     40000.0           Apr-87  10+ years   \n",
       "2             FL     60000.0           Aug-07  10+ years   \n",
       "3             IL    100742.0           Sep-80  10+ years   \n",
       "4             MD     80000.0           Jul-99  10+ years   \n",
       "...          ...         ...              ...        ...   \n",
       "79995         SC     81000.0           Feb-00  10+ years   \n",
       "79996         NH     45000.0           Aug-95  10+ years   \n",
       "79997         NY     90000.0           Apr-05   < 1 year   \n",
       "79998         TX     94000.0           Apr-92    3 years   \n",
       "79999         NY   1100000.0           Jun-99    2 years   \n",
       "\n",
       "                            emp_title  fico_range_high  fico_range_low grade  \\\n",
       "0                              Deputy              744             740     E   \n",
       "1      Department of Veterans Affairs              724             720     B   \n",
       "2                    Marble polishing              679             675     B   \n",
       "3                             printer              664             660     B   \n",
       "4                       Southern Mgmt              669             665     F   \n",
       "...                               ...              ...             ...   ...   \n",
       "79995            Sports Group Manager              664             660     G   \n",
       "79996                    Web Designer              684             680     C   \n",
       "79997                 Program Officer              724             720     B   \n",
       "79998            Sr. Business Analyst              669             665     D   \n",
       "79999               Managing Director              664             660     B   \n",
       "\n",
       "      home_ownership application_type  ... pub_rec_bankruptcies  \\\n",
       "0           MORTGAGE       Individual  ...                  0.0   \n",
       "1               RENT       Individual  ...                  0.0   \n",
       "2           MORTGAGE       Individual  ...                  0.0   \n",
       "3           MORTGAGE       Individual  ...                  0.0   \n",
       "4               RENT       Individual  ...                  0.0   \n",
       "...              ...              ...  ...                  ...   \n",
       "79995       MORTGAGE       Individual  ...                  0.0   \n",
       "79996       MORTGAGE       Individual  ...                  0.0   \n",
       "79997            OWN       Individual  ...                  0.0   \n",
       "79998       MORTGAGE       Individual  ...                  1.0   \n",
       "79999       MORTGAGE       Individual  ...                  0.0   \n",
       "\n",
       "                  purpose  revol_bal  revol_util  sub_grade        term  \\\n",
       "0      debt_consolidation       5338        93.6         E1   60 months   \n",
       "1      debt_consolidation      19944        60.3         B1   36 months   \n",
       "2      debt_consolidation      23199        88.5         B5   36 months   \n",
       "3      debt_consolidation      18425        69.0         B2   36 months   \n",
       "4      debt_consolidation      34370        90.0         F5   60 months   \n",
       "...                   ...        ...         ...        ...         ...   \n",
       "79995  debt_consolidation      20201        93.5         G3   60 months   \n",
       "79996  debt_consolidation       6145        56.9         C1   36 months   \n",
       "79997  debt_consolidation       3910        25.6         B4   36 months   \n",
       "79998         credit_card      11897        49.4         D5   60 months   \n",
       "79999  debt_consolidation     586259        96.7         B4   36 months   \n",
       "\n",
       "                         title  total_acc  verification_status loan_status  \n",
       "0           Debt consolidation          8      Source Verified   Defaulted  \n",
       "1                  Credit Loan         12             Verified        Paid  \n",
       "2           Debt consolidation         16      Source Verified        Paid  \n",
       "3           Debt consolidation         19      Source Verified        Paid  \n",
       "4          Debt Connsolidation         59             Verified        Paid  \n",
       "...                        ...        ...                  ...         ...  \n",
       "79995       Debt consolidation         42             Verified   Defaulted  \n",
       "79996       Debt consolidation         14         Not Verified        Paid  \n",
       "79997       Debt consolidation         26      Source Verified        Paid  \n",
       "79998  Credit card refinancing         48      Source Verified        Paid  \n",
       "79999       Debt consolidation         32      Source Verified        Paid  \n",
       "\n",
       "[80000 rows x 28 columns]"
      ]
     },
     "execution_count": 18,
     "metadata": {},
     "output_type": "execute_result"
    }
   ],
   "source": [
    "# reading the basic information recevied for anaylsis\n",
    "train_df"
   ]
  },
  {
   "cell_type": "code",
   "execution_count": 19,
   "metadata": {},
   "outputs": [
    {
     "data": {
      "text/html": [
       "<div>\n",
       "<style scoped>\n",
       "    .dataframe tbody tr th:only-of-type {\n",
       "        vertical-align: middle;\n",
       "    }\n",
       "\n",
       "    .dataframe tbody tr th {\n",
       "        vertical-align: top;\n",
       "    }\n",
       "\n",
       "    .dataframe thead th {\n",
       "        text-align: right;\n",
       "    }\n",
       "</style>\n",
       "<table border=\"1\" class=\"dataframe\">\n",
       "  <thead>\n",
       "    <tr style=\"text-align: right;\">\n",
       "      <th></th>\n",
       "      <th>addr_state</th>\n",
       "      <th>annual_inc</th>\n",
       "      <th>earliest_cr_line</th>\n",
       "      <th>emp_length</th>\n",
       "      <th>emp_title</th>\n",
       "      <th>fico_range_high</th>\n",
       "      <th>fico_range_low</th>\n",
       "      <th>grade</th>\n",
       "      <th>home_ownership</th>\n",
       "      <th>application_type</th>\n",
       "      <th>...</th>\n",
       "      <th>pub_rec</th>\n",
       "      <th>pub_rec_bankruptcies</th>\n",
       "      <th>purpose</th>\n",
       "      <th>revol_bal</th>\n",
       "      <th>revol_util</th>\n",
       "      <th>sub_grade</th>\n",
       "      <th>term</th>\n",
       "      <th>title</th>\n",
       "      <th>total_acc</th>\n",
       "      <th>verification_status</th>\n",
       "    </tr>\n",
       "  </thead>\n",
       "  <tbody>\n",
       "    <tr>\n",
       "      <th>0</th>\n",
       "      <td>MO</td>\n",
       "      <td>50000.0</td>\n",
       "      <td>May-2012</td>\n",
       "      <td>1 year</td>\n",
       "      <td>Tower technician</td>\n",
       "      <td>719.0</td>\n",
       "      <td>715.0</td>\n",
       "      <td>C</td>\n",
       "      <td>OWN</td>\n",
       "      <td>Individual</td>\n",
       "      <td>...</td>\n",
       "      <td>0.0</td>\n",
       "      <td>0.0</td>\n",
       "      <td>debt_consolidation</td>\n",
       "      <td>2568.0</td>\n",
       "      <td>9.8</td>\n",
       "      <td>C4</td>\n",
       "      <td>36 months</td>\n",
       "      <td>Debt consolidation</td>\n",
       "      <td>11.0</td>\n",
       "      <td>Source Verified</td>\n",
       "    </tr>\n",
       "    <tr>\n",
       "      <th>1</th>\n",
       "      <td>HI</td>\n",
       "      <td>92000.0</td>\n",
       "      <td>Dec-2001</td>\n",
       "      <td>10+ years</td>\n",
       "      <td>Supervisor</td>\n",
       "      <td>684.0</td>\n",
       "      <td>680.0</td>\n",
       "      <td>B</td>\n",
       "      <td>RENT</td>\n",
       "      <td>Individual</td>\n",
       "      <td>...</td>\n",
       "      <td>0.0</td>\n",
       "      <td>0.0</td>\n",
       "      <td>debt_consolidation</td>\n",
       "      <td>30394.0</td>\n",
       "      <td>75.4</td>\n",
       "      <td>B2</td>\n",
       "      <td>36 months</td>\n",
       "      <td>Debt consolidation</td>\n",
       "      <td>35.0</td>\n",
       "      <td>Source Verified</td>\n",
       "    </tr>\n",
       "    <tr>\n",
       "      <th>2</th>\n",
       "      <td>TX</td>\n",
       "      <td>89000.0</td>\n",
       "      <td>Mar-1989</td>\n",
       "      <td>10+ years</td>\n",
       "      <td>APPLICATIONS PROGRAMMER</td>\n",
       "      <td>679.0</td>\n",
       "      <td>675.0</td>\n",
       "      <td>B</td>\n",
       "      <td>MORTGAGE</td>\n",
       "      <td>Individual</td>\n",
       "      <td>...</td>\n",
       "      <td>0.0</td>\n",
       "      <td>0.0</td>\n",
       "      <td>credit_card</td>\n",
       "      <td>38400.0</td>\n",
       "      <td>75.3</td>\n",
       "      <td>B2</td>\n",
       "      <td>60 months</td>\n",
       "      <td>Credit card refinancing</td>\n",
       "      <td>41.0</td>\n",
       "      <td>Not Verified</td>\n",
       "    </tr>\n",
       "    <tr>\n",
       "      <th>3</th>\n",
       "      <td>CA</td>\n",
       "      <td>33000.0</td>\n",
       "      <td>Nov-2004</td>\n",
       "      <td>9 years</td>\n",
       "      <td>San Diego Unified School District</td>\n",
       "      <td>674.0</td>\n",
       "      <td>670.0</td>\n",
       "      <td>C</td>\n",
       "      <td>RENT</td>\n",
       "      <td>Individual</td>\n",
       "      <td>...</td>\n",
       "      <td>1.0</td>\n",
       "      <td>1.0</td>\n",
       "      <td>debt_consolidation</td>\n",
       "      <td>21224.0</td>\n",
       "      <td>69.4</td>\n",
       "      <td>C1</td>\n",
       "      <td>36 months</td>\n",
       "      <td>Breathing Room</td>\n",
       "      <td>16.0</td>\n",
       "      <td>Not Verified</td>\n",
       "    </tr>\n",
       "    <tr>\n",
       "      <th>4</th>\n",
       "      <td>MI</td>\n",
       "      <td>35580.0</td>\n",
       "      <td>Feb-1997</td>\n",
       "      <td>NaN</td>\n",
       "      <td>NaN</td>\n",
       "      <td>704.0</td>\n",
       "      <td>700.0</td>\n",
       "      <td>B</td>\n",
       "      <td>MORTGAGE</td>\n",
       "      <td>Individual</td>\n",
       "      <td>...</td>\n",
       "      <td>0.0</td>\n",
       "      <td>0.0</td>\n",
       "      <td>debt_consolidation</td>\n",
       "      <td>3471.0</td>\n",
       "      <td>39.4</td>\n",
       "      <td>B5</td>\n",
       "      <td>36 months</td>\n",
       "      <td>debitconsolidation</td>\n",
       "      <td>19.0</td>\n",
       "      <td>Verified</td>\n",
       "    </tr>\n",
       "    <tr>\n",
       "      <th>...</th>\n",
       "      <td>...</td>\n",
       "      <td>...</td>\n",
       "      <td>...</td>\n",
       "      <td>...</td>\n",
       "      <td>...</td>\n",
       "      <td>...</td>\n",
       "      <td>...</td>\n",
       "      <td>...</td>\n",
       "      <td>...</td>\n",
       "      <td>...</td>\n",
       "      <td>...</td>\n",
       "      <td>...</td>\n",
       "      <td>...</td>\n",
       "      <td>...</td>\n",
       "      <td>...</td>\n",
       "      <td>...</td>\n",
       "      <td>...</td>\n",
       "      <td>...</td>\n",
       "      <td>...</td>\n",
       "      <td>...</td>\n",
       "      <td>...</td>\n",
       "    </tr>\n",
       "    <tr>\n",
       "      <th>19995</th>\n",
       "      <td>MO</td>\n",
       "      <td>38500.0</td>\n",
       "      <td>Sep-2010</td>\n",
       "      <td>4 years</td>\n",
       "      <td>lighting coordinator</td>\n",
       "      <td>679.0</td>\n",
       "      <td>675.0</td>\n",
       "      <td>D</td>\n",
       "      <td>RENT</td>\n",
       "      <td>Individual</td>\n",
       "      <td>...</td>\n",
       "      <td>0.0</td>\n",
       "      <td>0.0</td>\n",
       "      <td>debt_consolidation</td>\n",
       "      <td>5816.0</td>\n",
       "      <td>60.0</td>\n",
       "      <td>D4</td>\n",
       "      <td>36 months</td>\n",
       "      <td>Debt consolidation</td>\n",
       "      <td>10.0</td>\n",
       "      <td>Not Verified</td>\n",
       "    </tr>\n",
       "    <tr>\n",
       "      <th>19996</th>\n",
       "      <td>VA</td>\n",
       "      <td>80000.0</td>\n",
       "      <td>Dec-1998</td>\n",
       "      <td>3 years</td>\n",
       "      <td>Contract &amp; Compliance Manager</td>\n",
       "      <td>674.0</td>\n",
       "      <td>670.0</td>\n",
       "      <td>D</td>\n",
       "      <td>MORTGAGE</td>\n",
       "      <td>Individual</td>\n",
       "      <td>...</td>\n",
       "      <td>0.0</td>\n",
       "      <td>0.0</td>\n",
       "      <td>debt_consolidation</td>\n",
       "      <td>13886.0</td>\n",
       "      <td>75.1</td>\n",
       "      <td>D4</td>\n",
       "      <td>60 months</td>\n",
       "      <td>Debt consolidation</td>\n",
       "      <td>30.0</td>\n",
       "      <td>Source Verified</td>\n",
       "    </tr>\n",
       "    <tr>\n",
       "      <th>19997</th>\n",
       "      <td>TX</td>\n",
       "      <td>95000.0</td>\n",
       "      <td>May-1996</td>\n",
       "      <td>10+ years</td>\n",
       "      <td>Pharmacist</td>\n",
       "      <td>729.0</td>\n",
       "      <td>725.0</td>\n",
       "      <td>B</td>\n",
       "      <td>MORTGAGE</td>\n",
       "      <td>Individual</td>\n",
       "      <td>...</td>\n",
       "      <td>0.0</td>\n",
       "      <td>0.0</td>\n",
       "      <td>debt_consolidation</td>\n",
       "      <td>43166.0</td>\n",
       "      <td>60.7</td>\n",
       "      <td>B5</td>\n",
       "      <td>36 months</td>\n",
       "      <td>Debt consolidation</td>\n",
       "      <td>29.0</td>\n",
       "      <td>Source Verified</td>\n",
       "    </tr>\n",
       "    <tr>\n",
       "      <th>19998</th>\n",
       "      <td>FL</td>\n",
       "      <td>35000.0</td>\n",
       "      <td>Mar-2003</td>\n",
       "      <td>10+ years</td>\n",
       "      <td>Manager In Training</td>\n",
       "      <td>809.0</td>\n",
       "      <td>805.0</td>\n",
       "      <td>A</td>\n",
       "      <td>MORTGAGE</td>\n",
       "      <td>Individual</td>\n",
       "      <td>...</td>\n",
       "      <td>0.0</td>\n",
       "      <td>0.0</td>\n",
       "      <td>car</td>\n",
       "      <td>1110.0</td>\n",
       "      <td>4.4</td>\n",
       "      <td>A5</td>\n",
       "      <td>36 months</td>\n",
       "      <td>Car financing</td>\n",
       "      <td>19.0</td>\n",
       "      <td>Not Verified</td>\n",
       "    </tr>\n",
       "    <tr>\n",
       "      <th>19999</th>\n",
       "      <td>FL</td>\n",
       "      <td>30700.0</td>\n",
       "      <td>Apr-1994</td>\n",
       "      <td>&lt; 1 year</td>\n",
       "      <td>rv technician</td>\n",
       "      <td>664.0</td>\n",
       "      <td>660.0</td>\n",
       "      <td>E</td>\n",
       "      <td>MORTGAGE</td>\n",
       "      <td>Individual</td>\n",
       "      <td>...</td>\n",
       "      <td>0.0</td>\n",
       "      <td>0.0</td>\n",
       "      <td>debt_consolidation</td>\n",
       "      <td>8910.0</td>\n",
       "      <td>78.8</td>\n",
       "      <td>E1</td>\n",
       "      <td>60 months</td>\n",
       "      <td>Debt consolidation</td>\n",
       "      <td>19.0</td>\n",
       "      <td>Verified</td>\n",
       "    </tr>\n",
       "  </tbody>\n",
       "</table>\n",
       "<p>20000 rows × 27 columns</p>\n",
       "</div>"
      ],
      "text/plain": [
       "      addr_state  annual_inc earliest_cr_line emp_length  \\\n",
       "0             MO     50000.0         May-2012     1 year   \n",
       "1             HI     92000.0         Dec-2001  10+ years   \n",
       "2             TX     89000.0         Mar-1989  10+ years   \n",
       "3             CA     33000.0         Nov-2004    9 years   \n",
       "4             MI     35580.0         Feb-1997        NaN   \n",
       "...          ...         ...              ...        ...   \n",
       "19995         MO     38500.0         Sep-2010    4 years   \n",
       "19996         VA     80000.0         Dec-1998    3 years   \n",
       "19997         TX     95000.0         May-1996  10+ years   \n",
       "19998         FL     35000.0         Mar-2003  10+ years   \n",
       "19999         FL     30700.0         Apr-1994   < 1 year   \n",
       "\n",
       "                               emp_title  fico_range_high  fico_range_low  \\\n",
       "0                       Tower technician            719.0           715.0   \n",
       "1                             Supervisor            684.0           680.0   \n",
       "2                APPLICATIONS PROGRAMMER            679.0           675.0   \n",
       "3      San Diego Unified School District            674.0           670.0   \n",
       "4                                    NaN            704.0           700.0   \n",
       "...                                  ...              ...             ...   \n",
       "19995               lighting coordinator            679.0           675.0   \n",
       "19996      Contract & Compliance Manager            674.0           670.0   \n",
       "19997                         Pharmacist            729.0           725.0   \n",
       "19998                Manager In Training            809.0           805.0   \n",
       "19999                      rv technician            664.0           660.0   \n",
       "\n",
       "      grade home_ownership application_type  ... pub_rec  \\\n",
       "0         C            OWN       Individual  ...     0.0   \n",
       "1         B           RENT       Individual  ...     0.0   \n",
       "2         B       MORTGAGE       Individual  ...     0.0   \n",
       "3         C           RENT       Individual  ...     1.0   \n",
       "4         B       MORTGAGE       Individual  ...     0.0   \n",
       "...     ...            ...              ...  ...     ...   \n",
       "19995     D           RENT       Individual  ...     0.0   \n",
       "19996     D       MORTGAGE       Individual  ...     0.0   \n",
       "19997     B       MORTGAGE       Individual  ...     0.0   \n",
       "19998     A       MORTGAGE       Individual  ...     0.0   \n",
       "19999     E       MORTGAGE       Individual  ...     0.0   \n",
       "\n",
       "       pub_rec_bankruptcies             purpose  revol_bal  revol_util  \\\n",
       "0                       0.0  debt_consolidation     2568.0         9.8   \n",
       "1                       0.0  debt_consolidation    30394.0        75.4   \n",
       "2                       0.0         credit_card    38400.0        75.3   \n",
       "3                       1.0  debt_consolidation    21224.0        69.4   \n",
       "4                       0.0  debt_consolidation     3471.0        39.4   \n",
       "...                     ...                 ...        ...         ...   \n",
       "19995                   0.0  debt_consolidation     5816.0        60.0   \n",
       "19996                   0.0  debt_consolidation    13886.0        75.1   \n",
       "19997                   0.0  debt_consolidation    43166.0        60.7   \n",
       "19998                   0.0                 car     1110.0         4.4   \n",
       "19999                   0.0  debt_consolidation     8910.0        78.8   \n",
       "\n",
       "       sub_grade        term                    title  total_acc  \\\n",
       "0             C4   36 months       Debt consolidation       11.0   \n",
       "1             B2   36 months       Debt consolidation       35.0   \n",
       "2             B2   60 months  Credit card refinancing       41.0   \n",
       "3             C1   36 months           Breathing Room       16.0   \n",
       "4             B5   36 months       debitconsolidation       19.0   \n",
       "...          ...         ...                      ...        ...   \n",
       "19995         D4   36 months       Debt consolidation       10.0   \n",
       "19996         D4   60 months       Debt consolidation       30.0   \n",
       "19997         B5   36 months       Debt consolidation       29.0   \n",
       "19998         A5   36 months            Car financing       19.0   \n",
       "19999         E1   60 months       Debt consolidation       19.0   \n",
       "\n",
       "      verification_status  \n",
       "0         Source Verified  \n",
       "1         Source Verified  \n",
       "2            Not Verified  \n",
       "3            Not Verified  \n",
       "4                Verified  \n",
       "...                   ...  \n",
       "19995        Not Verified  \n",
       "19996     Source Verified  \n",
       "19997     Source Verified  \n",
       "19998        Not Verified  \n",
       "19999            Verified  \n",
       "\n",
       "[20000 rows x 27 columns]"
      ]
     },
     "execution_count": 19,
     "metadata": {},
     "output_type": "execute_result"
    }
   ],
   "source": [
    "# reading the basic information recevied for anaylsis\n",
    "test_df"
   ]
  },
  {
   "cell_type": "code",
   "execution_count": 20,
   "metadata": {},
   "outputs": [
    {
     "name": "stdout",
     "output_type": "stream",
     "text": [
      "<class 'pandas.core.frame.DataFrame'>\n",
      "RangeIndex: 80000 entries, 0 to 79999\n",
      "Data columns (total 28 columns):\n",
      " #   Column                Non-Null Count  Dtype  \n",
      "---  ------                --------------  -----  \n",
      " 0   addr_state            80000 non-null  object \n",
      " 1   annual_inc            80000 non-null  float64\n",
      " 2   earliest_cr_line      80000 non-null  object \n",
      " 3   emp_length            75412 non-null  object \n",
      " 4   emp_title             74982 non-null  object \n",
      " 5   fico_range_high       80000 non-null  int64  \n",
      " 6   fico_range_low        80000 non-null  int64  \n",
      " 7   grade                 80000 non-null  object \n",
      " 8   home_ownership        80000 non-null  object \n",
      " 9   application_type      80000 non-null  object \n",
      " 10  initial_list_status   80000 non-null  object \n",
      " 11  int_rate              80000 non-null  float64\n",
      " 12  loan_amnt             80000 non-null  int64  \n",
      " 13  num_actv_bc_tl        76052 non-null  float64\n",
      " 14  mort_acc              77229 non-null  float64\n",
      " 15  tot_cur_bal           76052 non-null  float64\n",
      " 16  open_acc              80000 non-null  int64  \n",
      " 17  pub_rec               80000 non-null  int64  \n",
      " 18  pub_rec_bankruptcies  79969 non-null  float64\n",
      " 19  purpose               80000 non-null  object \n",
      " 20  revol_bal             80000 non-null  int64  \n",
      " 21  revol_util            79947 non-null  float64\n",
      " 22  sub_grade             80000 non-null  object \n",
      " 23  term                  80000 non-null  object \n",
      " 24  title                 79030 non-null  object \n",
      " 25  total_acc             80000 non-null  int64  \n",
      " 26  verification_status   80000 non-null  object \n",
      " 27  loan_status           80000 non-null  object \n",
      "dtypes: float64(7), int64(7), object(14)\n",
      "memory usage: 17.1+ MB\n"
     ]
    }
   ],
   "source": [
    "# checking the data type, missing value in all columns\n",
    "train_df.info()"
   ]
  },
  {
   "cell_type": "markdown",
   "metadata": {},
   "source": [
    "# Data Preprocessing "
   ]
  },
  {
   "cell_type": "markdown",
   "metadata": {},
   "source": [
    "## Data Cleaning"
   ]
  },
  {
   "cell_type": "code",
   "execution_count": 21,
   "metadata": {},
   "outputs": [
    {
     "name": "stdout",
     "output_type": "stream",
     "text": [
      "Column: addr_state - Unique Values: ['CO' 'CA' 'FL' 'IL' 'MD' 'NY' 'PA' 'WI' 'UT' 'TX' 'AL' 'KS' 'AR' 'AZ'\n",
      " 'MI' 'MN' 'LA' 'HI' 'NC' 'VT' 'OK' 'KY' 'ME' 'CT' 'AK' 'NJ' 'IN' 'GA'\n",
      " 'MA' 'OR' 'NM' 'VA' 'TN' 'SC' 'NV' 'WY' 'WA' 'WV' 'MO' 'OH' 'MS' 'DC'\n",
      " 'NE' 'ID' 'NH' 'RI' 'SD' 'MT' 'DE' 'ND' 'IA']\n",
      "-------------------------------------------------------------------\n",
      "Column: annual_inc - Unique Values: [  85000.   40000.   60000. ...   25125.  121386. 1100000.]\n",
      "-------------------------------------------------------------------\n",
      "Column: earliest_cr_line - Unique Values: ['Jul-97' 'Apr-87' 'Aug-07' 'Sep-80' 'Jul-99' 'May-91' 'Oct-86' 'Nov-95'\n",
      " 'Dec-07' 'Jun-04' 'Aug-96' 'Oct-98' 'May-07' 'Oct-00' 'Jan-05' 'Apr-04'\n",
      " 'Sep-00' 'Sep-93' 'Oct-01' 'May-01' 'Jun-06' 'Jan-98' 'Jan-99' 'Jul-98'\n",
      " 'Jun-03' 'Jul-09' 'Nov-06' 'Feb-06' 'Aug-10' 'Apr-01' 'Dec-02' 'Jun-78'\n",
      " 'Oct-04' 'Feb-04' 'Sep-06' 'May-99' 'Jan-88' 'Mar-92' 'Jun-11' 'Jul-01'\n",
      " 'Feb-95' 'Dec-05' 'Nov-97' 'Sep-03' 'Feb-91' 'Dec-00' 'May-03' 'Jul-03'\n",
      " 'Nov-90' 'Oct-96' 'Nov-03' 'Nov-93' 'Jun-00' 'Jun-87' 'Jun-05' 'Aug-87'\n",
      " 'Dec-08' 'Sep-95' 'Feb-81' 'Aug-93' 'Jan-04' 'Dec-06' 'May-05' 'Jun-95'\n",
      " 'Sep-86' 'Aug-91' 'Aug-00' 'Mar-09' 'Aug-04' 'Jan-02' 'Aug-08' 'Oct-06'\n",
      " 'Mar-05' 'Apr-82' 'Aug-99' 'Feb-94' 'Oct-05' 'Jun-83' 'Oct-88' 'Mar-98'\n",
      " 'Jul-02' 'Apr-83' 'Feb-97' 'Oct-03' 'Mar-95' 'Oct-09' 'Oct-95' 'Dec-89'\n",
      " 'Mar-93' 'May-10' 'Dec-95' 'Jan-80' 'Jun-92' 'Jan-01' 'Sep-85' 'Jan-13'\n",
      " 'Feb-98' 'Jun-98' 'Jul-93' 'Aug-03' 'Feb-93' 'Nov-96' 'Mar-89' 'Apr-11'\n",
      " 'Apr-06' 'Oct-10' 'Feb-09' 'May-06' 'Dec-97' 'Jan-10' 'Apr-02' 'Oct-94'\n",
      " 'Jan-85' 'Mar-00' 'Jun-01' 'Feb-80' 'Feb-01' 'Jun-02' 'Nov-07' 'Nov-01'\n",
      " 'Aug-94' 'Jul-04' 'Aug-84' 'Feb-03' 'Dec-98' 'Aug-90' 'Mar-86' 'Feb-05'\n",
      " 'Apr-07' 'Sep-96' 'Feb-92' 'Jan-92' 'Mar-83' 'Sep-05' 'Dec-04' 'Mar-91'\n",
      " 'Jul-07' 'Sep-94' 'Oct-80' 'Dec-82' 'Nov-92' 'Jul-82' 'Mar-97' 'Mar-01'\n",
      " 'Nov-99' 'Apr-03' 'Feb-99' 'Feb-00' 'Jun-90' 'Jun-96' 'Mar-06' 'Nov-02'\n",
      " 'Aug-97' 'Oct-02' 'Jul-05' 'Jun-89' 'Apr-94' 'Feb-89' 'Jan-06' 'Nov-00'\n",
      " 'Jan-03' 'Feb-08' 'Mar-90' 'Oct-81' 'Feb-07' 'Oct-97' 'Oct-93' 'Aug-95'\n",
      " 'May-96' 'Jul-94' 'Jun-99' 'Jul-83' 'Jan-08' 'Sep-02' 'Jan-89' 'Jun-94'\n",
      " 'May-04' 'Jan-00' 'Oct-99' 'Jan-12' 'May-89' 'Dec-94' 'Apr-08' 'Jul-89'\n",
      " 'Mar-04' 'Mar-03' 'Sep-04' 'Apr-05' 'Feb-96' 'Jan-56' 'May-02' 'Sep-70'\n",
      " 'Sep-01' 'Nov-88' 'Aug-06' 'Apr-79' 'Aug-83' 'Jun-93' 'Apr-84' 'May-97'\n",
      " 'Aug-98' 'Jan-09' 'Feb-12' 'Oct-12' 'Aug-02' 'Jul-12' 'Jan-82' 'Aug-01'\n",
      " 'May-93' 'Nov-05' 'Feb-88' 'May-11' 'May-86' 'Oct-83' 'Jun-91' 'Jul-91'\n",
      " 'Dec-03' 'Apr-10' 'Feb-02' 'Dec-92' 'Mar-02' 'Jul-08' 'Nov-98' 'Dec-99'\n",
      " 'Apr-99' 'Sep-90' 'Nov-91' 'Nov-04' 'Aug-05' 'Dec-01' 'Apr-90' 'Jan-96'\n",
      " 'Jul-06' 'May-08' 'May-00' 'Aug-89' 'Apr-13' 'Jun-82' 'Jul-96' 'Oct-08'\n",
      " 'May-80' 'May-90' 'Sep-97' 'Sep-92' 'Mar-99' 'Jun-07' 'Jul-00' 'Sep-08'\n",
      " 'Sep-11' 'Apr-96' 'Sep-84' 'Nov-08' 'Feb-87' 'Oct-91' 'May-82' 'Feb-14'\n",
      " 'Dec-12' 'Apr-92' 'Nov-87' 'Apr-98' 'Oct-79' 'Jun-86' 'Nov-78' 'Mar-79'\n",
      " 'Jan-87' 'Sep-98' 'Mar-84' 'Dec-96' 'Nov-84' 'Apr-97' 'May-95' 'Dec-80'\n",
      " 'Feb-83' 'Mar-94' 'Oct-72' 'Apr-00' 'Jan-14' 'Jan-95' 'Sep-83' 'May-98'\n",
      " 'Aug-88' 'Nov-86' 'Apr-95' 'May-94' 'Apr-91' 'Oct-07' 'Dec-93' 'Dec-09'\n",
      " 'Jun-63' 'Jan-93' 'Apr-75' 'May-76' 'Jan-07' 'Jun-08' 'Mar-07' 'Oct-89'\n",
      " 'Dec-91' 'Sep-99' 'Dec-85' 'May-85' 'Oct-92' 'Jul-95' 'Sep-07' 'Feb-13'\n",
      " 'Jun-79' 'Aug-76' 'Apr-93' 'Aug-11' 'Apr-12' 'Jul-86' 'Nov-83' 'Oct-84'\n",
      " 'May-92' 'Jul-70' 'Sep-91' 'Jun-14' 'Sep-81' 'Mar-96' 'Aug-12' 'Nov-94'\n",
      " 'Dec-88' 'Jan-94' 'Mar-11' 'Aug-86' 'Mar-88' 'Jul-84' 'Jul-10' 'May-88'\n",
      " 'Jun-72' 'Sep-09' 'Jan-11' 'Nov-89' 'Sep-88' 'Jun-76' 'Jun-10' 'Nov-10'\n",
      " 'Oct-77' 'Aug-92' 'Nov-12' 'Sep-10' 'Oct-90' 'May-81' 'Apr-09' 'Mar-12'\n",
      " 'Jun-97' 'Apr-89' 'Feb-90' 'Jun-75' 'Mar-77' 'Oct-85' 'Apr-88' 'Feb-79'\n",
      " 'May-12' 'Oct-82' 'Jan-81' 'Jul-13' 'Oct-76' 'Jan-90' 'Dec-87' 'Sep-87'\n",
      " 'Dec-84' 'Jan-77' 'Jan-72' 'Mar-87' 'Aug-73' 'Mar-13' 'Sep-74' 'Aug-82'\n",
      " 'May-09' 'May-83' 'Jun-88' 'Jan-91' 'Dec-79' 'Jul-85' 'Aug-85' 'Dec-81'\n",
      " 'Jan-97' 'Nov-85' 'Nov-14' 'Jun-09' 'Sep-89' 'Sep-12' 'Jun-74' 'Aug-13'\n",
      " 'Jul-92' 'Aug-77' 'Jun-84' 'Apr-86' 'Sep-13' 'Apr-73' 'Mar-81' 'May-87'\n",
      " 'Aug-09' 'Nov-77' 'Jan-86' 'Oct-13' 'Nov-13' 'Nov-82' 'Aug-80' 'May-13'\n",
      " 'Feb-77' 'Apr-74' 'Jul-90' 'Dec-13' 'Feb-10' 'Mar-82' 'Jun-70' 'May-75'\n",
      " 'Oct-74' 'Dec-83' 'Feb-85' 'Mar-10' 'May-72' 'Dec-65' 'Nov-81' 'Mar-08'\n",
      " 'Dec-75' 'Mar-80' 'Mar-85' 'Feb-86' 'Jul-80' 'Aug-78' 'Sep-76' 'Mar-74'\n",
      " 'Dec-77' 'Oct-71' 'Oct-87' 'Feb-84' 'Jul-79' 'Dec-73' 'May-84' 'Oct-11'\n",
      " 'Jul-87' 'Dec-90' 'Jun-12' 'Jul-67' 'Nov-11' 'Jun-13' 'Jan-84' 'Jan-79'\n",
      " 'Apr-78' 'Mar-73' 'Dec-78' 'Jan-83' 'Mar-14' 'Jul-11' 'Aug-14' 'Jan-78'\n",
      " 'Jan-68' 'Apr-85' 'Jun-85' 'Feb-11' 'Aug-75' 'Nov-09' 'Dec-66' 'Jul-88'\n",
      " 'Jul-72' 'Sep-82' 'Nov-72' 'May-64' 'Dec-11' 'May-79' 'Feb-82' 'Jan-65'\n",
      " 'Nov-79' 'Jul-77' 'Apr-69' 'Mar-75' 'Oct-68' 'Dec-76' 'Aug-71' 'Mar-70'\n",
      " 'Dec-10' 'May-78' 'Jan-76' 'Jul-14' 'Nov-76' 'Nov-75' 'Sep-64' 'Sep-77'\n",
      " 'Feb-71' 'Mar-76' 'Dec-86' 'Nov-80' 'Jan-75' 'Jul-81' 'Jun-77' 'Jan-69'\n",
      " 'Nov-74' 'Mar-78' 'Oct-78' 'Apr-64' 'Sep-78' 'Jan-60' 'May-71' 'Jan-73'\n",
      " 'Apr-80' 'Dec-67' 'Oct-70' 'Apr-76' 'Jul-75' 'Dec-69' 'Aug-81' 'Dec-74'\n",
      " 'Sep-14' 'Sep-68' 'Feb-76' 'Aug-70' 'Oct-75' 'Feb-73' 'Oct-63' 'Aug-69'\n",
      " 'Mar-69' 'Jan-66' 'Jul-74' 'Feb-68' 'Apr-81' 'May-65' 'Oct-69' 'Apr-15'\n",
      " 'Aug-68' 'Sep-79' 'Jun-81' 'Jun-69' 'May-74' 'Dec-14' 'May-58' 'Aug-79'\n",
      " 'Mar-68' 'Jan-63' 'Jul-78' 'Sep-73' 'Dec-68' 'Jun-80' 'Aug-72' 'Nov-69'\n",
      " 'Mar-67' 'Apr-55' 'Mar-72' 'Jan-15' 'Apr-70' 'Apr-14' 'May-77' 'Jan-70'\n",
      " 'Jul-73' 'Apr-77' 'Aug-67' 'Jul-68' 'Feb-15' 'May-69' 'Aug-74' 'Feb-70'\n",
      " 'Oct-73' 'Oct-61' 'Apr-68' 'Feb-78' 'Feb-72' 'Nov-70' 'Jun-64' 'Jan-62'\n",
      " 'Jan-67' 'Sep-71' 'Nov-67' 'May-67' 'Jun-58' 'Jul-69' 'Jul-71' 'May-70'\n",
      " 'Feb-65' 'Sep-66' 'Dec-72' 'Feb-74' 'Mar-66' 'May-63' 'Mar-15' 'Jun-68'\n",
      " 'Jun-73' 'Jan-74' 'Oct-58' 'Feb-67' 'Feb-69' 'Sep-72' 'Nov-73' 'Apr-71'\n",
      " 'Dec-71' 'Feb-59' 'Nov-68' 'Feb-61' 'Jan-44' 'Sep-75' 'Dec-64' 'Sep-59'\n",
      " 'Aug-63' 'May-14' 'Nov-66' 'Nov-71' 'Apr-72' 'Oct-62' 'Feb-45' 'Jan-61'\n",
      " 'Dec-70' 'Oct-14' 'Jul-15' 'Jun-67' 'May-66' 'Jan-71' 'Jun-71' 'Nov-62'\n",
      " 'Apr-67' 'Mar-71' 'Sep-67' 'Jul-76' 'May-59' 'Oct-65' 'May-68' 'Nov-61'\n",
      " 'Mar-63' 'Feb-75' 'Jul-65' 'Jun-66' 'Jun-15' 'Apr-66' 'Mar-55' 'May-73'\n",
      " 'Jul-64' 'Apr-65' 'Oct-66' 'Oct-64' 'May-62' 'Aug-15' 'Oct-67' 'Sep-62'\n",
      " 'Aug-65' 'Jul-66' 'Feb-64' 'Sep-65' 'Jan-64' 'Jul-60' 'Nov-65' 'Jan-59']\n",
      "-------------------------------------------------------------------\n",
      "Column: emp_length - Unique Values: ['10+ years' nan '3 years' '< 1 year' '1 year' '8 years' '7 years'\n",
      " '4 years' '2 years' '5 years' '6 years' '9 years']\n",
      "-------------------------------------------------------------------\n",
      "Column: emp_title - Unique Values: ['Deputy' 'Department of Veterans Affairs' 'Marble polishing' ...\n",
      " 'COAL MINER' 'repair tec' 'Sports Group Manager']\n",
      "-------------------------------------------------------------------\n",
      "Column: fico_range_high - Unique Values: [744 724 679 664 669 699 684 749 694 674 729 689 719 709 734 739 714 704\n",
      " 754 774 789 764 784 779 799 809 759 804 794 769 834 839 814 824 819 829\n",
      " 850 844]\n",
      "-------------------------------------------------------------------\n",
      "Column: fico_range_low - Unique Values: [740 720 675 660 665 695 680 745 690 670 725 685 715 705 730 735 710 700\n",
      " 750 770 785 760 780 775 795 805 755 800 790 765 830 835 810 820 815 825\n",
      " 845 840]\n",
      "-------------------------------------------------------------------\n",
      "Column: grade - Unique Values: ['E' 'B' 'F' 'D' 'C' 'A' 'G']\n",
      "-------------------------------------------------------------------\n",
      "Column: home_ownership - Unique Values: ['MORTGAGE' 'RENT' 'OWN' 'ANY' 'NONE' 'OTHER']\n",
      "-------------------------------------------------------------------\n",
      "Column: application_type - Unique Values: ['Individual' 'Joint App']\n",
      "-------------------------------------------------------------------\n",
      "Column: initial_list_status - Unique Values: ['w' 'f']\n",
      "-------------------------------------------------------------------\n",
      "Column: int_rate - Unique Values: [18.99 10.16 11.47  9.16 23.83 16.99 12.29 13.47 10.75 17.97 10.91 11.53\n",
      " 11.99  7.97 20.49 14.07 14.08 12.99  8.67 17.57 19.99 13.49 11.49 22.2\n",
      " 12.74 24.99 16.2  13.59 10.99  5.32 15.59  7.89 13.35  8.9  13.99  9.76\n",
      "  9.99 22.47  7.39 13.33 10.42  7.35 13.06 16.29 17.1  16.77 18.67 19.05\n",
      "  6.08  8.39 15.8   9.71  9.49 30.74  7.59 16.49 23.28 12.85  6.99  9.17\n",
      "  6.49  8.19 18.06  9.93  8.18 12.62 22.45 16.78  9.43 20.99  6.89  7.69\n",
      "  7.84 17.86  6.03 12.69  6.11 23.99 15.61 29.99 13.67 18.25 10.78 20.39\n",
      " 14.33  9.67 11.14 15.99 18.49  9.8  13.44 21.98 15.05 12.39  8.38  9.62\n",
      " 19.72 14.65 13.98  5.93 26.24  8.99 11.39 15.49 21.99  7.99  7.24 22.39\n",
      " 12.12 21.   19.03 22.74  6.24 14.16 16.02  8.49 20.2  24.5  12.79  7.4\n",
      " 14.99 14.46  7.49 26.3   7.88 28.14 18.24 10.9  14.85 14.27 11.67 13.11\n",
      " 15.31 22.35 12.13 11.22 21.49  7.9  13.18 10.62 12.35 26.99 19.19 14.49\n",
      " 29.49 21.45 15.77 21.7  17.27  6.83 12.49  7.26 13.56 14.48  9.75 11.44\n",
      " 14.98 13.53 14.3  17.99 16.14 21.18 14.31  6.92 14.09 10.15 10.47 16.55\n",
      "  7.07 24.11 11.71 25.81  6.62 22.99 19.52 20.   19.24 19.22 14.64 24.74\n",
      " 10.74 18.85  9.44 10.49 17.14 30.17 26.06 20.75 30.89 17.77 17.09 12.59\n",
      "  7.21 19.48 15.23 18.45 13.48  7.12  7.62 25.44 10.08 25.89 16.32 10.56\n",
      " 11.98 25.49 21.85  6.72 12.88 10.64 25.69 15.1  24.08  6.68  8.59 18.55\n",
      " 12.61 21.97 24.83 30.65 18.2   8.24 15.22  7.66 10.25 13.57 11.48  9.92\n",
      "  6.97 16.59  7.96 15.88 28.72 14.47 25.82 17.56 26.77 25.29  5.31  5.42\n",
      " 22.7  22.91 13.65 18.94 28.67 30.84 10.41 22.15  6.91 15.02 11.11 12.05\n",
      " 27.79 16.91  6.17 17.76 16.24 18.75 10.65 12.42 28.88  7.91 21.67  7.34\n",
      " 19.47 29.69 17.58 19.89 24.49  6.67 13.66 13.05 23.43 13.8  21.48 23.88\n",
      "  6.39  7.29 20.31 15.81 17.47 23.13 19.53  6.71 30.79 25.8  27.88 28.49\n",
      " 30.94 14.35 11.58 25.65 15.41 10.72 15.62 20.5  11.36 11.86 20.3   8.08\n",
      " 23.76 25.83  9.91 10.   30.49 15.58 25.34 23.32 19.97 16.01 24.85 13.58\n",
      " 12.21 20.8  29.96 25.78 15.21 25.88  6.07 30.75 27.31 12.53 14.96 21.6\n",
      " 13.68 11.05  9.38 14.22 22.78 22.4  12.68 15.04 14.03 18.54 24.7   7.14\n",
      "  7.51 20.89  6.54 23.4   8.94 12.73  7.46 24.89 12.18 23.7  18.92 26.14\n",
      " 24.84 25.57 11.12  5.99 11.59 26.57 10.07 28.69 11.55  9.25  5.79 19.2\n",
      " 18.43 12.98 19.42 19.92 11.06  7.74  6.19 16.89 10.33 17.49 16.82 27.34\n",
      " 16.45 18.64 15.28 21.15 16.7  10.59 14.52  9.88  9.58  8.   14.59 13.22\n",
      " 15.37 18.84  6.   13.23 18.62 27.49  8.46 15.65 10.36 23.5  15.57  8.6\n",
      " 28.99 17.44 17.43 10.38 16.46 10.37 24.2  19.91 16.35 30.99 14.93 18.79\n",
      " 14.79 15.95 23.63 16.   21.28  9.7  23.1   9.32 23.26  7.68 13.61 14.17\n",
      " 23.87 22.95 19.29 19.74 15.33 14.42 25.09 22.11 13.72 13.43 26.49 27.27\n",
      " 14.54 14.26 21.64 24.24 25.28 13.85 19.79 25.99 24.37  6.46 25.11 15.68\n",
      " 14.61 16.4  28.18  8.81 22.9  29.67 15.27 18.39 14.74  8.88 13.79 15.96\n",
      " 12.84  8.07 14.75 12.17 12.72 19.13 14.83 11.89 14.11 17.93 27.99 16.95\n",
      " 10.71 14.91 14.84 14.82 20.03 13.92 12.41 12.87 11.8   7.56  9.63  8.63\n",
      " 10.96 20.25 20.53  9.96 17.19 21.36 28.34  9.45 12.92  6.76 14.72 26.31\n",
      " 11.31  7.02 20.11 11.83 10.01 17.88 18.07 19.69  7.37 13.04  7.42  7.43\n",
      " 13.87 11.26 18.17 15.38 21.74  9.07 17.51 16.69 21.27 12.86 12.8   8.32\n",
      " 13.16 17.39 23.22 12.23 17.06 20.62 15.7  10.51 10.39 15.45 10.95 14.5\n",
      "  9.64 19.41 11.03 12.54 14.38 15.2  19.04 20.16 23.91 11.34 11.91 16.07\n",
      " 23.33  9.51 22.94 11.63 20.48 11.97 10.28 19.16  9.83]\n",
      "-------------------------------------------------------------------\n",
      "Column: loan_amnt - Unique Values: [18075  8800 18000 ... 39550 29275 30475]\n",
      "-------------------------------------------------------------------\n",
      "Column: num_actv_bc_tl - Unique Values: [ 1.  4. 14. nan  2.  3.  6.  5.  8.  0.  9.  7. 11. 10. 17. 13. 12. 19.\n",
      " 25. 16. 15. 20. 18. 24. 21. 22. 26. 27. 32.]\n",
      "-------------------------------------------------------------------\n",
      "Column: mort_acc - Unique Values: [ 1.  0.  2.  7.  4. nan  3.  5.  8. 12.  9.  6. 10. 11. 13. 16. 14. 26.\n",
      " 18. 15. 32. 22. 19. 20. 27. 31. 17. 24. 29.]\n",
      "-------------------------------------------------------------------\n",
      "Column: tot_cur_bal - Unique Values: [ 319479.   19944.   23199. ...  382274.  201841. 3046776.]\n",
      "-------------------------------------------------------------------\n",
      "Column: open_acc - Unique Values: [ 7  5 12 23 17 18 15  6  9 11 10  8 13 14 16 21  4 28  3 20 22 19 26 27\n",
      "  2 31 24 25 38 29 35 34  1 30 33 40 36 32 39 41 56 37 45 42 43 44 68 54\n",
      " 51 47 62 80 48 53 49 46]\n",
      "-------------------------------------------------------------------\n",
      "Column: pub_rec - Unique Values: [ 0  1  2  3  6  4  5  8 10  7 13 11 24 15  9]\n",
      "-------------------------------------------------------------------\n",
      "Column: pub_rec_bankruptcies - Unique Values: [ 0.  1.  2.  3.  5. nan  4.  7.  6.]\n",
      "-------------------------------------------------------------------\n",
      "Column: purpose - Unique Values: ['debt_consolidation' 'home_improvement' 'credit_card' 'other'\n",
      " 'small_business' 'medical' 'major_purchase' 'car' 'vacation' 'house'\n",
      " 'moving' 'wedding' 'renewable_energy' 'educational']\n",
      "-------------------------------------------------------------------\n",
      "Column: revol_bal - Unique Values: [  5338  19944  23199 ...  43756  20201 586259]\n",
      "-------------------------------------------------------------------\n",
      "Column: revol_util - Unique Values: [ 93.6  60.3  88.5 ... 108.  121.5 113. ]\n",
      "-------------------------------------------------------------------\n",
      "Column: sub_grade - Unique Values: ['E1' 'B1' 'B5' 'B2' 'F5' 'D3' 'C1' 'C4' 'B4' 'D4' 'A5' 'C3' 'C2' 'E4'\n",
      " 'F3' 'E2' 'A1' 'C5' 'B3' 'E5' 'A4' 'D2' 'F2' 'A2' 'A3' 'F1' 'D5' 'D1'\n",
      " 'E3' 'G2' 'F4' 'G1' 'G3' 'G4' 'G5']\n",
      "-------------------------------------------------------------------\n",
      "Column: term - Unique Values: [' 60 months' ' 36 months']\n",
      "-------------------------------------------------------------------\n",
      "Column: title - Unique Values: ['Debt consolidation' 'Credit Loan' 'Debt Connsolidation' ...\n",
      " 'cr card payoff' 'Debt in one place' 'Consolidate 2012']\n",
      "-------------------------------------------------------------------\n",
      "Column: total_acc - Unique Values: [  8  12  16  19  59  37  36  23  20  24  15   7  21  45  18  14  26  25\n",
      "  28  11  13  30  27  22  35  49  31  39  56  54  50  10  17  33  40   9\n",
      "  48  44  29  58  46   4  32  43  42  41   6  34   2   5  64  51  70  60\n",
      "  68  38  52  47  83  57  53  55  85  61  62   3  65  63  86  81  76  66\n",
      "  71 104 110  79  74  90  93  80  73  69  78 124  67  72  77  75  82 162\n",
      "  89 101  95  88 108  94 105 126  84 122  87  96  98 103 111  99  91]\n",
      "-------------------------------------------------------------------\n",
      "Column: verification_status - Unique Values: ['Source Verified' 'Verified' 'Not Verified']\n",
      "-------------------------------------------------------------------\n",
      "Column: loan_status - Unique Values: ['Defaulted' 'Paid']\n",
      "-------------------------------------------------------------------\n"
     ]
    }
   ],
   "source": [
    "# checking the unique value in all columns\n",
    "for column in train_df.columns:\n",
    "    print('Column: {} - Unique Values: {}'.format(column, train_df[column].unique()))\n",
    "    print('-------------------------------------------------------------------')"
   ]
  },
  {
   "cell_type": "code",
   "execution_count": 22,
   "metadata": {},
   "outputs": [
    {
     "data": {
      "text/html": [
       "<div>\n",
       "<style scoped>\n",
       "    .dataframe tbody tr th:only-of-type {\n",
       "        vertical-align: middle;\n",
       "    }\n",
       "\n",
       "    .dataframe tbody tr th {\n",
       "        vertical-align: top;\n",
       "    }\n",
       "\n",
       "    .dataframe thead th {\n",
       "        text-align: right;\n",
       "    }\n",
       "</style>\n",
       "<table border=\"1\" class=\"dataframe\">\n",
       "  <thead>\n",
       "    <tr style=\"text-align: right;\">\n",
       "      <th></th>\n",
       "      <th>Null Values</th>\n",
       "      <th>% Missing Values</th>\n",
       "    </tr>\n",
       "  </thead>\n",
       "  <tbody>\n",
       "    <tr>\n",
       "      <th>emp_length</th>\n",
       "      <td>4588</td>\n",
       "      <td>5.73500</td>\n",
       "    </tr>\n",
       "    <tr>\n",
       "      <th>emp_title</th>\n",
       "      <td>5018</td>\n",
       "      <td>6.27250</td>\n",
       "    </tr>\n",
       "    <tr>\n",
       "      <th>num_actv_bc_tl</th>\n",
       "      <td>3948</td>\n",
       "      <td>4.93500</td>\n",
       "    </tr>\n",
       "    <tr>\n",
       "      <th>mort_acc</th>\n",
       "      <td>2771</td>\n",
       "      <td>3.46375</td>\n",
       "    </tr>\n",
       "    <tr>\n",
       "      <th>tot_cur_bal</th>\n",
       "      <td>3948</td>\n",
       "      <td>4.93500</td>\n",
       "    </tr>\n",
       "    <tr>\n",
       "      <th>pub_rec_bankruptcies</th>\n",
       "      <td>31</td>\n",
       "      <td>0.03875</td>\n",
       "    </tr>\n",
       "    <tr>\n",
       "      <th>revol_util</th>\n",
       "      <td>53</td>\n",
       "      <td>0.06625</td>\n",
       "    </tr>\n",
       "    <tr>\n",
       "      <th>title</th>\n",
       "      <td>970</td>\n",
       "      <td>1.21250</td>\n",
       "    </tr>\n",
       "  </tbody>\n",
       "</table>\n",
       "</div>"
      ],
      "text/plain": [
       "                      Null Values  % Missing Values\n",
       "emp_length                   4588           5.73500\n",
       "emp_title                    5018           6.27250\n",
       "num_actv_bc_tl               3948           4.93500\n",
       "mort_acc                     2771           3.46375\n",
       "tot_cur_bal                  3948           4.93500\n",
       "pub_rec_bankruptcies           31           0.03875\n",
       "revol_util                     53           0.06625\n",
       "title                         970           1.21250"
      ]
     },
     "execution_count": 22,
     "metadata": {},
     "output_type": "execute_result"
    }
   ],
   "source": [
    "# Find the missing value and overall percentage and showing in a DataFrame\n",
    "null = pd.DataFrame(train_df.isnull().sum(), columns=[\"Null Values\"])\n",
    "null[\"% Missing Values\"] = (train_df.isnull().sum()/len(train_df)*100)\n",
    "null[null['% Missing Values'] > 0]"
   ]
  },
  {
   "cell_type": "code",
   "execution_count": 23,
   "metadata": {},
   "outputs": [
    {
     "data": {
      "text/plain": [
       "Index(['addr_state', 'annual_inc', 'earliest_cr_line', 'emp_length',\n",
       "       'emp_title', 'fico_range_high', 'fico_range_low', 'grade',\n",
       "       'home_ownership', 'application_type', 'initial_list_status', 'int_rate',\n",
       "       'loan_amnt', 'num_actv_bc_tl', 'mort_acc', 'tot_cur_bal', 'open_acc',\n",
       "       'pub_rec', 'pub_rec_bankruptcies', 'purpose', 'revol_bal', 'revol_util',\n",
       "       'sub_grade', 'term', 'title', 'total_acc', 'verification_status',\n",
       "       'loan_status'],\n",
       "      dtype='object')"
      ]
     },
     "execution_count": 23,
     "metadata": {},
     "output_type": "execute_result"
    }
   ],
   "source": [
    "# extracting all column's name.\n",
    "train_df.columns"
   ]
  },
  {
   "cell_type": "code",
   "execution_count": 24,
   "metadata": {},
   "outputs": [],
   "source": [
    "# Selecting the all numeric columns to find the outliars.\n",
    "featureNum = [ 'annual_inc', 'fico_range_high', 'fico_range_low', 'int_rate', 'loan_amnt', 'num_actv_bc_tl', 'mort_acc', 'tot_cur_bal', 'open_acc', 'pub_rec', 'pub_rec_bankruptcies', 'revol_bal', 'revol_util', 'total_acc']"
   ]
  },
  {
   "cell_type": "code",
   "execution_count": 25,
   "metadata": {},
   "outputs": [
    {
     "data": {
      "text/plain": [
       "annual_inc              float64\n",
       "fico_range_high           int64\n",
       "fico_range_low            int64\n",
       "int_rate                float64\n",
       "loan_amnt                 int64\n",
       "num_actv_bc_tl          float64\n",
       "mort_acc                float64\n",
       "tot_cur_bal             float64\n",
       "open_acc                  int64\n",
       "pub_rec                   int64\n",
       "pub_rec_bankruptcies    float64\n",
       "revol_bal                 int64\n",
       "revol_util              float64\n",
       "total_acc                 int64\n",
       "dtype: object"
      ]
     },
     "execution_count": 25,
     "metadata": {},
     "output_type": "execute_result"
    }
   ],
   "source": [
    "# checking the data type for selected feature before finding the outliar.\n",
    "train_df[featureNum].dtypes"
   ]
  },
  {
   "cell_type": "code",
   "execution_count": 26,
   "metadata": {},
   "outputs": [
    {
     "data": {
      "image/png": "[encoded data removed]",
      "text/plain": [
       "<Figure size 2000x800 with 14 Axes>"
      ]
     },
     "metadata": {},
     "output_type": "display_data"
    }
   ],
   "source": [
    "# Boxplot to check the outliers\n",
    "\n",
    "plt.figure(figsize = (20,8))\n",
    "\n",
    "for i in range(0, len(featureNum)):\n",
    "  plt.subplot(1, len(featureNum), i+1)\n",
    "  sns.boxplot(y = train_df[featureNum[i]], color = 'blue', orient = 'h')\n",
    "  plt.tight_layout()\n"
   ]
  },
  {
   "cell_type": "markdown",
   "metadata": {},
   "source": [
    "We can see some outliers in our features."
   ]
  },
  {
   "cell_type": "markdown",
   "metadata": {},
   "source": [
    "## Data Transformation "
   ]
  },
  {
   "cell_type": "code",
   "execution_count": 27,
   "metadata": {},
   "outputs": [],
   "source": [
    "categorical_col = [column for column in train_df.columns if train_df[column].dtype != '0']\n",
    "numerical_col = [column for column in train_df.columns if train_df[column].dtype == '0']"
   ]
  },
  {
   "cell_type": "code",
   "execution_count": 28,
   "metadata": {},
   "outputs": [
    {
     "data": {
      "text/plain": [
       "<bound method NDFrame.describe of       addr_state  annual_inc earliest_cr_line emp_length  \\\n",
       "0             CO     85000.0           Jul-97  10+ years   \n",
       "1             CA     40000.0           Apr-87  10+ years   \n",
       "2             FL     60000.0           Aug-07  10+ years   \n",
       "3             IL    100742.0           Sep-80  10+ years   \n",
       "4             MD     80000.0           Jul-99  10+ years   \n",
       "...          ...         ...              ...        ...   \n",
       "79995         SC     81000.0           Feb-00  10+ years   \n",
       "79996         NH     45000.0           Aug-95  10+ years   \n",
       "79997         NY     90000.0           Apr-05   < 1 year   \n",
       "79998         TX     94000.0           Apr-92    3 years   \n",
       "79999         NY   1100000.0           Jun-99    2 years   \n",
       "\n",
       "                            emp_title  fico_range_high  fico_range_low grade  \\\n",
       "0                              Deputy              744             740     E   \n",
       "1      Department of Veterans Affairs              724             720     B   \n",
       "2                    Marble polishing              679             675     B   \n",
       "3                             printer              664             660     B   \n",
       "4                       Southern Mgmt              669             665     F   \n",
       "...                               ...              ...             ...   ...   \n",
       "79995            Sports Group Manager              664             660     G   \n",
       "79996                    Web Designer              684             680     C   \n",
       "79997                 Program Officer              724             720     B   \n",
       "79998            Sr. Business Analyst              669             665     D   \n",
       "79999               Managing Director              664             660     B   \n",
       "\n",
       "      home_ownership application_type  ... pub_rec_bankruptcies  \\\n",
       "0           MORTGAGE       Individual  ...                  0.0   \n",
       "1               RENT       Individual  ...                  0.0   \n",
       "2           MORTGAGE       Individual  ...                  0.0   \n",
       "3           MORTGAGE       Individual  ...                  0.0   \n",
       "4               RENT       Individual  ...                  0.0   \n",
       "...              ...              ...  ...                  ...   \n",
       "79995       MORTGAGE       Individual  ...                  0.0   \n",
       "79996       MORTGAGE       Individual  ...                  0.0   \n",
       "79997            OWN       Individual  ...                  0.0   \n",
       "79998       MORTGAGE       Individual  ...                  1.0   \n",
       "79999       MORTGAGE       Individual  ...                  0.0   \n",
       "\n",
       "                  purpose  revol_bal  revol_util  sub_grade        term  \\\n",
       "0      debt_consolidation       5338        93.6         E1   60 months   \n",
       "1      debt_consolidation      19944        60.3         B1   36 months   \n",
       "2      debt_consolidation      23199        88.5         B5   36 months   \n",
       "3      debt_consolidation      18425        69.0         B2   36 months   \n",
       "4      debt_consolidation      34370        90.0         F5   60 months   \n",
       "...                   ...        ...         ...        ...         ...   \n",
       "79995  debt_consolidation      20201        93.5         G3   60 months   \n",
       "79996  debt_consolidation       6145        56.9         C1   36 months   \n",
       "79997  debt_consolidation       3910        25.6         B4   36 months   \n",
       "79998         credit_card      11897        49.4         D5   60 months   \n",
       "79999  debt_consolidation     586259        96.7         B4   36 months   \n",
       "\n",
       "                         title  total_acc  verification_status loan_status  \n",
       "0           Debt consolidation          8      Source Verified   Defaulted  \n",
       "1                  Credit Loan         12             Verified        Paid  \n",
       "2           Debt consolidation         16      Source Verified        Paid  \n",
       "3           Debt consolidation         19      Source Verified        Paid  \n",
       "4          Debt Connsolidation         59             Verified        Paid  \n",
       "...                        ...        ...                  ...         ...  \n",
       "79995       Debt consolidation         42             Verified   Defaulted  \n",
       "79996       Debt consolidation         14         Not Verified        Paid  \n",
       "79997       Debt consolidation         26      Source Verified        Paid  \n",
       "79998  Credit card refinancing         48      Source Verified        Paid  \n",
       "79999       Debt consolidation         32      Source Verified        Paid  \n",
       "\n",
       "[80000 rows x 28 columns]>"
      ]
     },
     "execution_count": 28,
     "metadata": {},
     "output_type": "execute_result"
    }
   ],
   "source": [
    "train_df[categorical_col].describe"
   ]
  },
  {
   "cell_type": "code",
   "execution_count": 29,
   "metadata": {},
   "outputs": [
    {
     "data": {
      "text/plain": [
       "Text(0.5, 1.0, 'Loan Repayment Status')"
      ]
     },
     "execution_count": 29,
     "metadata": {},
     "output_type": "execute_result"
    },
    {
     "data": {
      "image/png": "[encoded data removed]",
      "text/plain": [
       "<Figure size 640x480 with 1 Axes>"
      ]
     },
     "metadata": {},
     "output_type": "display_data"
    }
   ],
   "source": [
    "# create a pie chart to show the loan repayment status.\n",
    "value_counts = train_df['loan_status'].value_counts().to_dict()\n",
    "fig , ax = plt.subplots()\n",
    "ax.pie(x= [value_counts['Defaulted'], value_counts['Paid']], labels = ['Defaulted',\n",
    "                                                               'Paid'], colors = ['#000000', '#0035fc'])\n",
    "\n",
    "ax.axis('equal')\n",
    "ax.set_title(\"Loan Repayment Status\")"
   ]
  },
  {
   "cell_type": "code",
   "execution_count": 30,
   "metadata": {},
   "outputs": [
    {
     "data": {
      "text/plain": [
       "Text(0.5, 0, 'loan_status')"
      ]
     },
     "execution_count": 30,
     "metadata": {},
     "output_type": "execute_result"
    },
    {
     "data": {
      "image/png": "[encoded data removed]",
      "text/plain": [
       "<Figure size 640x480 with 1 Axes>"
      ]
     },
     "metadata": {},
     "output_type": "display_data"
    }
   ],
   "source": [
    "# create a histrogram to find the loan repayment status based on verfication.\n",
    "sns.set_style('darkgrid')\n",
    "plt.hist(train_df['loan_status'].loc[train_df['verification_status']=='Source Verified'], bins=10, label='Source Verified')\n",
    "plt.hist(train_df['loan_status'].loc[train_df['verification_status']=='Verified'], bins=10, label='Verified')\n",
    "plt.hist(train_df['loan_status'].loc[train_df['verification_status']=='Not Verified'], bins=10, label='Not Verified')\n",
    "plt.legend()\n",
    "plt.xlabel('loan_status')"
   ]
  },
  {
   "cell_type": "code",
   "execution_count": 31,
   "metadata": {},
   "outputs": [
    {
     "data": {
      "text/plain": [
       "<Axes: xlabel='term', ylabel='count'>"
      ]
     },
     "execution_count": 31,
     "metadata": {},
     "output_type": "execute_result"
    },
    {
     "data": {
      "image/png": "[encoded data removed]",
      "text/plain": [
       "<Figure size 1200x600 with 1 Axes>"
      ]
     },
     "metadata": {},
     "output_type": "display_data"
    }
   ],
   "source": [
    "#creating a countplot to see the counts of loan repayment based on term.\n",
    "plt.figure(figsize=(12,6))\n",
    "sns.countplot(data=train_df, x='term', hue='loan_status')"
   ]
  },
  {
   "cell_type": "code",
   "execution_count": 32,
   "metadata": {},
   "outputs": [
    {
     "data": {
      "text/plain": [
       "emp_length\n",
       "10+ years    26278\n",
       "2 years       7319\n",
       "3 years       6474\n",
       "< 1 year      6297\n",
       "1 year        5294\n",
       "5 years       5094\n",
       "4 years       4763\n",
       "6 years       3691\n",
       "7 years       3597\n",
       "8 years       3583\n",
       "9 years       3022\n",
       "Name: count, dtype: int64"
      ]
     },
     "execution_count": 32,
     "metadata": {},
     "output_type": "execute_result"
    }
   ],
   "source": [
    "train_df['emp_length'].value_counts()"
   ]
  },
  {
   "cell_type": "markdown",
   "metadata": {},
   "source": [
    "Convert categorical variables into numerical representations using techniques like one-hot encoding or label encoding."
   ]
  },
  {
   "cell_type": "code",
   "execution_count": 33,
   "metadata": {},
   "outputs": [],
   "source": [
    "from sklearn.preprocessing import LabelEncoder"
   ]
  },
  {
   "cell_type": "code",
   "execution_count": 34,
   "metadata": {},
   "outputs": [],
   "source": [
    "def apply_label_encoding(data_frame , columns):\n",
    "    encoded_data = data_frame.copy()\n",
    "    for col in columns:\n",
    "        label_encoder = LabelEncoder()\n",
    "        encoded_data[col] = label_encoder.fit_transform(data_frame[col])\n",
    "    return encoded_data"
   ]
  },
  {
   "cell_type": "markdown",
   "metadata": {},
   "source": [
    "Normalize or standardize numerical features to ensure they have the same scale."
   ]
  },
  {
   "cell_type": "markdown",
   "metadata": {},
   "source": [
    "Feature engineering: Create new features or transformations that may help the model capture underlying patterns in the data, such as debt-to-income ratios or payment history."
   ]
  },
  {
   "cell_type": "code",
   "execution_count": 35,
   "metadata": {},
   "outputs": [
    {
     "data": {
      "text/plain": [
       "emp_length\n",
       "10+ years    26278\n",
       "2 years       7319\n",
       "3 years       6474\n",
       "< 1 year      6297\n",
       "1 year        5294\n",
       "5 years       5094\n",
       "4 years       4763\n",
       "6 years       3691\n",
       "7 years       3597\n",
       "8 years       3583\n",
       "9 years       3022\n",
       "Name: count, dtype: int64"
      ]
     },
     "execution_count": 35,
     "metadata": {},
     "output_type": "execute_result"
    }
   ],
   "source": [
    "train_df['emp_length'].value_counts()"
   ]
  },
  {
   "cell_type": "markdown",
   "metadata": {},
   "source": [
    "Data Spiliting"
   ]
  },
  {
   "cell_type": "markdown",
   "metadata": {},
   "source": [
    "Split the data into training, validation, and testing sets. Common splits include 70% for training, 15% for validation, and 15% for testing."
   ]
  },
  {
   "cell_type": "code",
   "execution_count": 36,
   "metadata": {},
   "outputs": [],
   "source": [
    "from sklearn.model_selection import train_test_split"
   ]
  },
  {
   "cell_type": "code",
   "execution_count": 37,
   "metadata": {},
   "outputs": [],
   "source": [
    "X = train_df.drop(['loan_status'], axis = 1)\n",
    "y = train_df['loan_status']\n",
    "\n",
    "\n",
    "X_train, X_test, y_train, y_test = train_test_split(X,y,train_size =0.2, random_state = 150)"
   ]
  },
  {
   "cell_type": "code",
   "execution_count": 38,
   "metadata": {},
   "outputs": [
    {
     "name": "stdout",
     "output_type": "stream",
     "text": [
      "\u001b[91mX_train Shape : \u001b[0m (16000, 27)\n",
      "\u001b[91mX_test Shape : \u001b[0m (64000, 27)\n"
     ]
    }
   ],
   "source": [
    "print(\"\\033[91mX_train Shape : \\033[0m\" , X_train.shape)\n",
    "print(\"\\033[91mX_test Shape : \\033[0m\" , X_test.shape)"
   ]
  },
  {
   "cell_type": "code",
   "execution_count": 39,
   "metadata": {},
   "outputs": [],
   "source": [
    "X_train_encoded = apply_label_encoding(X_train , X)\n",
    "X_test_encoded = apply_label_encoding(X_test , X)"
   ]
  },
  {
   "cell_type": "code",
   "execution_count": 40,
   "metadata": {},
   "outputs": [
    {
     "name": "stdout",
     "output_type": "stream",
     "text": [
      "\u001b[91mX_train Data : \u001b[0m\n",
      "       addr_state  annual_inc  earliest_cr_line  emp_length  emp_title  \\\n",
      "1965           19          95                47          11       9215   \n",
      "23958          34         404               454          11       9215   \n",
      "8703           32        1028               369           4       1985   \n",
      "\n",
      "       fico_range_high  fico_range_low  grade  home_ownership  \\\n",
      "1965                 1               1      2               2   \n",
      "23958                4               4      0               1   \n",
      "8703                 3               3      4               3   \n",
      "\n",
      "       application_type  ...  pub_rec  pub_rec_bankruptcies  purpose  \\\n",
      "1965                  0  ...        0                     0        9   \n",
      "23958                 0  ...        0                     0        2   \n",
      "8703                  0  ...        0                     0        2   \n",
      "\n",
      "       revol_bal  revol_util  sub_grade  term  title  total_acc  \\\n",
      "1965        5598         777         11     0    751         19   \n",
      "23958       6809         651          3     0    395         20   \n",
      "8703        8586         902         22     1    333         13   \n",
      "\n",
      "       verification_status  \n",
      "1965                     1  \n",
      "23958                    0  \n",
      "8703                     2  \n",
      "\n",
      "[3 rows x 27 columns]\n",
      "\u001b[91mX_test Data : \u001b[0m\n",
      "       addr_state  annual_inc  earliest_cr_line  emp_length  emp_title  \\\n",
      "72280          47        1874               367           1      15799   \n",
      "24448          48        4891               469           3      13766   \n",
      "22695          15        2525               152           1      14866   \n",
      "\n",
      "       fico_range_high  fico_range_low  grade  home_ownership  \\\n",
      "72280                0               0      3               5   \n",
      "24448               16              16      0               1   \n",
      "22695                8               8      2               1   \n",
      "\n",
      "       application_type  ...  pub_rec  pub_rec_bankruptcies  purpose  \\\n",
      "72280                 0  ...        0                     0        2   \n",
      "24448                 0  ...        0                     0        9   \n",
      "22695                 0  ...        0                     0        2   \n",
      "\n",
      "       revol_bal  revol_util  sub_grade  term  title  total_acc  \\\n",
      "72280       7709         782         15     0   1255         21   \n",
      "24448      27175         457          4     0   2537         26   \n",
      "22695      26264         551         10     1   3541         45   \n",
      "\n",
      "       verification_status  \n",
      "72280                    1  \n",
      "24448                    2  \n",
      "22695                    2  \n",
      "\n",
      "[3 rows x 27 columns]\n"
     ]
    }
   ],
   "source": [
    "print(\"\\033[91mX_train Data : \\033[0m\")\n",
    "print(X_train_encoded.sample(3))\n",
    "\n",
    "print(\"\\033[91mX_test Data : \\033[0m\")\n",
    "print(X_test_encoded.sample(3))"
   ]
  },
  {
   "cell_type": "code",
   "execution_count": 41,
   "metadata": {},
   "outputs": [],
   "source": [
    "X_train_num = X_train[X_train.describe().columns]"
   ]
  },
  {
   "cell_type": "markdown",
   "metadata": {},
   "source": [
    "Model Selection:"
   ]
  },
  {
   "cell_type": "markdown",
   "metadata": {},
   "source": [
    "Choose an appropriate machine learning algorithm for your prediction task. Common choices include logistic regression, decision trees, random forests, support vector machines, or gradient boosting methods."
   ]
  },
  {
   "cell_type": "code",
   "execution_count": 42,
   "metadata": {},
   "outputs": [],
   "source": [
    "# Random Forest\n",
    "from sklearn.ensemble import RandomForestClassifier\n",
    "from sklearn.metrics import accuracy_score"
   ]
  },
  {
   "cell_type": "code",
   "execution_count": 43,
   "metadata": {},
   "outputs": [],
   "source": [
    "# I want to build with 1000 Decision Tree model - Hyperparameter\n",
    "\n",
    "def train_and_predict(X_train , y_train , X_test , y_test , n_estimators):\n",
    "    rfc = RandomForestClassifier(n_estimators = n_estimators , random_state = 0) # It will build on 10 Decision Trees\n",
    "    rfc.fit(X_train, y_train)\n",
    "    y_pred = rfc.predict(X_test)\n",
    "\n",
    "    accuracy = accuracy_score(y_test , y_pred)\n",
    "    return accuracy"
   ]
  },
  {
   "cell_type": "code",
   "execution_count": 44,
   "metadata": {},
   "outputs": [
    {
     "name": "stdout",
     "output_type": "stream",
     "text": [
      "\u001b[91mRandom Forest Model Accuracy acore with 1000 Decision Tree :\u001b[0m 0.8006\n"
     ]
    }
   ],
   "source": [
    "# Currently we select 1000 decision tree\n",
    "n_estimators = 1000\n",
    "accuracy = train_and_predict(X_train_encoded ,y_train ,X_test_encoded, y_test , n_estimators)\n",
    "print(\"\\033[91mRandom Forest Model Accuracy acore with 1000 Decision Tree :\\033[0m {:.4f}\".format(accuracy))"
   ]
  },
  {
   "cell_type": "code",
   "execution_count": 45,
   "metadata": {},
   "outputs": [],
   "source": [
    "from sklearn.model_selection import GridSearchCV"
   ]
  },
  {
   "cell_type": "code",
   "execution_count": 46,
   "metadata": {},
   "outputs": [
    {
     "ename": "KeyboardInterrupt",
     "evalue": "",
     "output_type": "error",
     "traceback": [
      "\u001b[0;31m---------------------------------------------------------------------------\u001b[0m",
      "\u001b[0;31mKeyboardInterrupt\u001b[0m                         Traceback (most recent call last)",
      "\u001b[1;32m/Users/mrinalsachdeva/loan-repayment-prediction/loan-repayment-predcition.ipynb Cell 46\u001b[0m line \u001b[0;36m1\n\u001b[1;32m      <a href='vscode-notebook-cell:/Users/mrinalsachdeva/loan-repayment-prediction/loan-repayment-predcition.ipynb#Y116sZmlsZQ%3D%3D?line=4'>5</a>\u001b[0m param_grid \u001b[39m=\u001b[39m {\n\u001b[1;32m      <a href='vscode-notebook-cell:/Users/mrinalsachdeva/loan-repayment-prediction/loan-repayment-predcition.ipynb#Y116sZmlsZQ%3D%3D?line=5'>6</a>\u001b[0m      \u001b[39m'\u001b[39m\u001b[39mn_estimators\u001b[39m\u001b[39m'\u001b[39m : [\u001b[39m100\u001b[39m , \u001b[39m500\u001b[39m , \u001b[39m1000\u001b[39m],\n\u001b[1;32m      <a href='vscode-notebook-cell:/Users/mrinalsachdeva/loan-repayment-prediction/loan-repayment-predcition.ipynb#Y116sZmlsZQ%3D%3D?line=6'>7</a>\u001b[0m      \u001b[39m'\u001b[39m\u001b[39mcriterion\u001b[39m\u001b[39m'\u001b[39m : [\u001b[39m'\u001b[39m\u001b[39mgini\u001b[39m\u001b[39m'\u001b[39m , \u001b[39m'\u001b[39m\u001b[39mentropy\u001b[39m\u001b[39m'\u001b[39m],\n\u001b[0;32m   (...)\u001b[0m\n\u001b[1;32m     <a href='vscode-notebook-cell:/Users/mrinalsachdeva/loan-repayment-prediction/loan-repayment-predcition.ipynb#Y116sZmlsZQ%3D%3D?line=10'>11</a>\u001b[0m      \u001b[39m'\u001b[39m\u001b[39mmin_samples_leaf\u001b[39m\u001b[39m'\u001b[39m : [\u001b[39m1\u001b[39m , \u001b[39m5\u001b[39m ,\u001b[39m10\u001b[39m ,\u001b[39m20\u001b[39m]\n\u001b[1;32m     <a href='vscode-notebook-cell:/Users/mrinalsachdeva/loan-repayment-prediction/loan-repayment-predcition.ipynb#Y116sZmlsZQ%3D%3D?line=11'>12</a>\u001b[0m  }\n\u001b[1;32m     <a href='vscode-notebook-cell:/Users/mrinalsachdeva/loan-repayment-prediction/loan-repayment-predcition.ipynb#Y116sZmlsZQ%3D%3D?line=13'>14</a>\u001b[0m grid_search \u001b[39m=\u001b[39m GridSearchCV(estimator \u001b[39m=\u001b[39m rfc , param_grid \u001b[39m=\u001b[39m param_grid , cv \u001b[39m=\u001b[39m \u001b[39m5\u001b[39m , n_jobs \u001b[39m=\u001b[39m \u001b[39m1\u001b[39m)\n\u001b[0;32m---> <a href='vscode-notebook-cell:/Users/mrinalsachdeva/loan-repayment-prediction/loan-repayment-predcition.ipynb#Y116sZmlsZQ%3D%3D?line=14'>15</a>\u001b[0m grid_search\u001b[39m.\u001b[39;49mfit(X_train_encoded , y_train)\n\u001b[1;32m     <a href='vscode-notebook-cell:/Users/mrinalsachdeva/loan-repayment-prediction/loan-repayment-predcition.ipynb#Y116sZmlsZQ%3D%3D?line=16'>17</a>\u001b[0m best_model \u001b[39m=\u001b[39m grid_search\u001b[39m.\u001b[39mbest_estimator_\n\u001b[1;32m     <a href='vscode-notebook-cell:/Users/mrinalsachdeva/loan-repayment-prediction/loan-repayment-predcition.ipynb#Y116sZmlsZQ%3D%3D?line=18'>19</a>\u001b[0m y_pred \u001b[39m=\u001b[39m best_model\u001b[39m.\u001b[39mpredict(X_test_encoded)\n",
      "File \u001b[0;32m~/Library/Python/3.8/lib/python/site-packages/sklearn/base.py:1152\u001b[0m, in \u001b[0;36m_fit_context.<locals>.decorator.<locals>.wrapper\u001b[0;34m(estimator, *args, **kwargs)\u001b[0m\n\u001b[1;32m   1145\u001b[0m     estimator\u001b[39m.\u001b[39m_validate_params()\n\u001b[1;32m   1147\u001b[0m \u001b[39mwith\u001b[39;00m config_context(\n\u001b[1;32m   1148\u001b[0m     skip_parameter_validation\u001b[39m=\u001b[39m(\n\u001b[1;32m   1149\u001b[0m         prefer_skip_nested_validation \u001b[39mor\u001b[39;00m global_skip_validation\n\u001b[1;32m   1150\u001b[0m     )\n\u001b[1;32m   1151\u001b[0m ):\n\u001b[0;32m-> 1152\u001b[0m     \u001b[39mreturn\u001b[39;00m fit_method(estimator, \u001b[39m*\u001b[39;49margs, \u001b[39m*\u001b[39;49m\u001b[39m*\u001b[39;49mkwargs)\n",
      "File \u001b[0;32m~/Library/Python/3.8/lib/python/site-packages/sklearn/model_selection/_search.py:898\u001b[0m, in \u001b[0;36mBaseSearchCV.fit\u001b[0;34m(self, X, y, groups, **fit_params)\u001b[0m\n\u001b[1;32m    892\u001b[0m     results \u001b[39m=\u001b[39m \u001b[39mself\u001b[39m\u001b[39m.\u001b[39m_format_results(\n\u001b[1;32m    893\u001b[0m         all_candidate_params, n_splits, all_out, all_more_results\n\u001b[1;32m    894\u001b[0m     )\n\u001b[1;32m    896\u001b[0m     \u001b[39mreturn\u001b[39;00m results\n\u001b[0;32m--> 898\u001b[0m \u001b[39mself\u001b[39;49m\u001b[39m.\u001b[39;49m_run_search(evaluate_candidates)\n\u001b[1;32m    900\u001b[0m \u001b[39m# multimetric is determined here because in the case of a callable\u001b[39;00m\n\u001b[1;32m    901\u001b[0m \u001b[39m# self.scoring the return type is only known after calling\u001b[39;00m\n\u001b[1;32m    902\u001b[0m first_test_score \u001b[39m=\u001b[39m all_out[\u001b[39m0\u001b[39m][\u001b[39m\"\u001b[39m\u001b[39mtest_scores\u001b[39m\u001b[39m\"\u001b[39m]\n",
      "File \u001b[0;32m~/Library/Python/3.8/lib/python/site-packages/sklearn/model_selection/_search.py:1422\u001b[0m, in \u001b[0;36mGridSearchCV._run_search\u001b[0;34m(self, evaluate_candidates)\u001b[0m\n\u001b[1;32m   1420\u001b[0m \u001b[39mdef\u001b[39;00m \u001b[39m_run_search\u001b[39m(\u001b[39mself\u001b[39m, evaluate_candidates):\n\u001b[1;32m   1421\u001b[0m \u001b[39m    \u001b[39m\u001b[39m\"\"\"Search all candidates in param_grid\"\"\"\u001b[39;00m\n\u001b[0;32m-> 1422\u001b[0m     evaluate_candidates(ParameterGrid(\u001b[39mself\u001b[39;49m\u001b[39m.\u001b[39;49mparam_grid))\n",
      "File \u001b[0;32m~/Library/Python/3.8/lib/python/site-packages/sklearn/model_selection/_search.py:845\u001b[0m, in \u001b[0;36mBaseSearchCV.fit.<locals>.evaluate_candidates\u001b[0;34m(candidate_params, cv, more_results)\u001b[0m\n\u001b[1;32m    837\u001b[0m \u001b[39mif\u001b[39;00m \u001b[39mself\u001b[39m\u001b[39m.\u001b[39mverbose \u001b[39m>\u001b[39m \u001b[39m0\u001b[39m:\n\u001b[1;32m    838\u001b[0m     \u001b[39mprint\u001b[39m(\n\u001b[1;32m    839\u001b[0m         \u001b[39m\"\u001b[39m\u001b[39mFitting \u001b[39m\u001b[39m{0}\u001b[39;00m\u001b[39m folds for each of \u001b[39m\u001b[39m{1}\u001b[39;00m\u001b[39m candidates,\u001b[39m\u001b[39m\"\u001b[39m\n\u001b[1;32m    840\u001b[0m         \u001b[39m\"\u001b[39m\u001b[39m totalling \u001b[39m\u001b[39m{2}\u001b[39;00m\u001b[39m fits\u001b[39m\u001b[39m\"\u001b[39m\u001b[39m.\u001b[39mformat(\n\u001b[1;32m    841\u001b[0m             n_splits, n_candidates, n_candidates \u001b[39m*\u001b[39m n_splits\n\u001b[1;32m    842\u001b[0m         )\n\u001b[1;32m    843\u001b[0m     )\n\u001b[0;32m--> 845\u001b[0m out \u001b[39m=\u001b[39m parallel(\n\u001b[1;32m    846\u001b[0m     delayed(_fit_and_score)(\n\u001b[1;32m    847\u001b[0m         clone(base_estimator),\n\u001b[1;32m    848\u001b[0m         X,\n\u001b[1;32m    849\u001b[0m         y,\n\u001b[1;32m    850\u001b[0m         train\u001b[39m=\u001b[39;49mtrain,\n\u001b[1;32m    851\u001b[0m         test\u001b[39m=\u001b[39;49mtest,\n\u001b[1;32m    852\u001b[0m         parameters\u001b[39m=\u001b[39;49mparameters,\n\u001b[1;32m    853\u001b[0m         split_progress\u001b[39m=\u001b[39;49m(split_idx, n_splits),\n\u001b[1;32m    854\u001b[0m         candidate_progress\u001b[39m=\u001b[39;49m(cand_idx, n_candidates),\n\u001b[1;32m    855\u001b[0m         \u001b[39m*\u001b[39;49m\u001b[39m*\u001b[39;49mfit_and_score_kwargs,\n\u001b[1;32m    856\u001b[0m     )\n\u001b[1;32m    857\u001b[0m     \u001b[39mfor\u001b[39;49;00m (cand_idx, parameters), (split_idx, (train, test)) \u001b[39min\u001b[39;49;00m product(\n\u001b[1;32m    858\u001b[0m         \u001b[39menumerate\u001b[39;49m(candidate_params), \u001b[39menumerate\u001b[39;49m(cv\u001b[39m.\u001b[39;49msplit(X, y, groups))\n\u001b[1;32m    859\u001b[0m     )\n\u001b[1;32m    860\u001b[0m )\n\u001b[1;32m    862\u001b[0m \u001b[39mif\u001b[39;00m \u001b[39mlen\u001b[39m(out) \u001b[39m<\u001b[39m \u001b[39m1\u001b[39m:\n\u001b[1;32m    863\u001b[0m     \u001b[39mraise\u001b[39;00m \u001b[39mValueError\u001b[39;00m(\n\u001b[1;32m    864\u001b[0m         \u001b[39m\"\u001b[39m\u001b[39mNo fits were performed. \u001b[39m\u001b[39m\"\u001b[39m\n\u001b[1;32m    865\u001b[0m         \u001b[39m\"\u001b[39m\u001b[39mWas the CV iterator empty? \u001b[39m\u001b[39m\"\u001b[39m\n\u001b[1;32m    866\u001b[0m         \u001b[39m\"\u001b[39m\u001b[39mWere there no candidates?\u001b[39m\u001b[39m\"\u001b[39m\n\u001b[1;32m    867\u001b[0m     )\n",
      "File \u001b[0;32m~/Library/Python/3.8/lib/python/site-packages/sklearn/utils/parallel.py:65\u001b[0m, in \u001b[0;36mParallel.__call__\u001b[0;34m(self, iterable)\u001b[0m\n\u001b[1;32m     60\u001b[0m config \u001b[39m=\u001b[39m get_config()\n\u001b[1;32m     61\u001b[0m iterable_with_config \u001b[39m=\u001b[39m (\n\u001b[1;32m     62\u001b[0m     (_with_config(delayed_func, config), args, kwargs)\n\u001b[1;32m     63\u001b[0m     \u001b[39mfor\u001b[39;00m delayed_func, args, kwargs \u001b[39min\u001b[39;00m iterable\n\u001b[1;32m     64\u001b[0m )\n\u001b[0;32m---> 65\u001b[0m \u001b[39mreturn\u001b[39;00m \u001b[39msuper\u001b[39;49m()\u001b[39m.\u001b[39;49m\u001b[39m__call__\u001b[39;49m(iterable_with_config)\n",
      "File \u001b[0;32m~/Library/Python/3.8/lib/python/site-packages/joblib/parallel.py:1863\u001b[0m, in \u001b[0;36mParallel.__call__\u001b[0;34m(self, iterable)\u001b[0m\n\u001b[1;32m   1861\u001b[0m     output \u001b[39m=\u001b[39m \u001b[39mself\u001b[39m\u001b[39m.\u001b[39m_get_sequential_output(iterable)\n\u001b[1;32m   1862\u001b[0m     \u001b[39mnext\u001b[39m(output)\n\u001b[0;32m-> 1863\u001b[0m     \u001b[39mreturn\u001b[39;00m output \u001b[39mif\u001b[39;00m \u001b[39mself\u001b[39m\u001b[39m.\u001b[39mreturn_generator \u001b[39melse\u001b[39;00m \u001b[39mlist\u001b[39;49m(output)\n\u001b[1;32m   1865\u001b[0m \u001b[39m# Let's create an ID that uniquely identifies the current call. If the\u001b[39;00m\n\u001b[1;32m   1866\u001b[0m \u001b[39m# call is interrupted early and that the same instance is immediately\u001b[39;00m\n\u001b[1;32m   1867\u001b[0m \u001b[39m# re-used, this id will be used to prevent workers that were\u001b[39;00m\n\u001b[1;32m   1868\u001b[0m \u001b[39m# concurrently finalizing a task from the previous call to run the\u001b[39;00m\n\u001b[1;32m   1869\u001b[0m \u001b[39m# callback.\u001b[39;00m\n\u001b[1;32m   1870\u001b[0m \u001b[39mwith\u001b[39;00m \u001b[39mself\u001b[39m\u001b[39m.\u001b[39m_lock:\n",
      "File \u001b[0;32m~/Library/Python/3.8/lib/python/site-packages/joblib/parallel.py:1792\u001b[0m, in \u001b[0;36mParallel._get_sequential_output\u001b[0;34m(self, iterable)\u001b[0m\n\u001b[1;32m   1790\u001b[0m \u001b[39mself\u001b[39m\u001b[39m.\u001b[39mn_dispatched_batches \u001b[39m+\u001b[39m\u001b[39m=\u001b[39m \u001b[39m1\u001b[39m\n\u001b[1;32m   1791\u001b[0m \u001b[39mself\u001b[39m\u001b[39m.\u001b[39mn_dispatched_tasks \u001b[39m+\u001b[39m\u001b[39m=\u001b[39m \u001b[39m1\u001b[39m\n\u001b[0;32m-> 1792\u001b[0m res \u001b[39m=\u001b[39m func(\u001b[39m*\u001b[39;49margs, \u001b[39m*\u001b[39;49m\u001b[39m*\u001b[39;49mkwargs)\n\u001b[1;32m   1793\u001b[0m \u001b[39mself\u001b[39m\u001b[39m.\u001b[39mn_completed_tasks \u001b[39m+\u001b[39m\u001b[39m=\u001b[39m \u001b[39m1\u001b[39m\n\u001b[1;32m   1794\u001b[0m \u001b[39mself\u001b[39m\u001b[39m.\u001b[39mprint_progress()\n",
      "File \u001b[0;32m~/Library/Python/3.8/lib/python/site-packages/sklearn/utils/parallel.py:127\u001b[0m, in \u001b[0;36m_FuncWrapper.__call__\u001b[0;34m(self, *args, **kwargs)\u001b[0m\n\u001b[1;32m    125\u001b[0m     config \u001b[39m=\u001b[39m {}\n\u001b[1;32m    126\u001b[0m \u001b[39mwith\u001b[39;00m config_context(\u001b[39m*\u001b[39m\u001b[39m*\u001b[39mconfig):\n\u001b[0;32m--> 127\u001b[0m     \u001b[39mreturn\u001b[39;00m \u001b[39mself\u001b[39;49m\u001b[39m.\u001b[39;49mfunction(\u001b[39m*\u001b[39;49margs, \u001b[39m*\u001b[39;49m\u001b[39m*\u001b[39;49mkwargs)\n",
      "File \u001b[0;32m~/Library/Python/3.8/lib/python/site-packages/sklearn/model_selection/_validation.py:729\u001b[0m, in \u001b[0;36m_fit_and_score\u001b[0;34m(estimator, X, y, scorer, train, test, verbose, parameters, fit_params, return_train_score, return_parameters, return_n_test_samples, return_times, return_estimator, split_progress, candidate_progress, error_score)\u001b[0m\n\u001b[1;32m    727\u001b[0m         estimator\u001b[39m.\u001b[39mfit(X_train, \u001b[39m*\u001b[39m\u001b[39m*\u001b[39mfit_params)\n\u001b[1;32m    728\u001b[0m     \u001b[39melse\u001b[39;00m:\n\u001b[0;32m--> 729\u001b[0m         estimator\u001b[39m.\u001b[39;49mfit(X_train, y_train, \u001b[39m*\u001b[39;49m\u001b[39m*\u001b[39;49mfit_params)\n\u001b[1;32m    731\u001b[0m \u001b[39mexcept\u001b[39;00m \u001b[39mException\u001b[39;00m:\n\u001b[1;32m    732\u001b[0m     \u001b[39m# Note fit time as time until error\u001b[39;00m\n\u001b[1;32m    733\u001b[0m     fit_time \u001b[39m=\u001b[39m time\u001b[39m.\u001b[39mtime() \u001b[39m-\u001b[39m start_time\n",
      "File \u001b[0;32m~/Library/Python/3.8/lib/python/site-packages/sklearn/base.py:1152\u001b[0m, in \u001b[0;36m_fit_context.<locals>.decorator.<locals>.wrapper\u001b[0;34m(estimator, *args, **kwargs)\u001b[0m\n\u001b[1;32m   1145\u001b[0m     estimator\u001b[39m.\u001b[39m_validate_params()\n\u001b[1;32m   1147\u001b[0m \u001b[39mwith\u001b[39;00m config_context(\n\u001b[1;32m   1148\u001b[0m     skip_parameter_validation\u001b[39m=\u001b[39m(\n\u001b[1;32m   1149\u001b[0m         prefer_skip_nested_validation \u001b[39mor\u001b[39;00m global_skip_validation\n\u001b[1;32m   1150\u001b[0m     )\n\u001b[1;32m   1151\u001b[0m ):\n\u001b[0;32m-> 1152\u001b[0m     \u001b[39mreturn\u001b[39;00m fit_method(estimator, \u001b[39m*\u001b[39;49margs, \u001b[39m*\u001b[39;49m\u001b[39m*\u001b[39;49mkwargs)\n",
      "File \u001b[0;32m~/Library/Python/3.8/lib/python/site-packages/sklearn/ensemble/_forest.py:456\u001b[0m, in \u001b[0;36mBaseForest.fit\u001b[0;34m(self, X, y, sample_weight)\u001b[0m\n\u001b[1;32m    445\u001b[0m trees \u001b[39m=\u001b[39m [\n\u001b[1;32m    446\u001b[0m     \u001b[39mself\u001b[39m\u001b[39m.\u001b[39m_make_estimator(append\u001b[39m=\u001b[39m\u001b[39mFalse\u001b[39;00m, random_state\u001b[39m=\u001b[39mrandom_state)\n\u001b[1;32m    447\u001b[0m     \u001b[39mfor\u001b[39;00m i \u001b[39min\u001b[39;00m \u001b[39mrange\u001b[39m(n_more_estimators)\n\u001b[1;32m    448\u001b[0m ]\n\u001b[1;32m    450\u001b[0m \u001b[39m# Parallel loop: we prefer the threading backend as the Cython code\u001b[39;00m\n\u001b[1;32m    451\u001b[0m \u001b[39m# for fitting the trees is internally releasing the Python GIL\u001b[39;00m\n\u001b[1;32m    452\u001b[0m \u001b[39m# making threading more efficient than multiprocessing in\u001b[39;00m\n\u001b[1;32m    453\u001b[0m \u001b[39m# that case. However, for joblib 0.12+ we respect any\u001b[39;00m\n\u001b[1;32m    454\u001b[0m \u001b[39m# parallel_backend contexts set at a higher level,\u001b[39;00m\n\u001b[1;32m    455\u001b[0m \u001b[39m# since correctness does not rely on using threads.\u001b[39;00m\n\u001b[0;32m--> 456\u001b[0m trees \u001b[39m=\u001b[39m Parallel(\n\u001b[1;32m    457\u001b[0m     n_jobs\u001b[39m=\u001b[39;49m\u001b[39mself\u001b[39;49m\u001b[39m.\u001b[39;49mn_jobs,\n\u001b[1;32m    458\u001b[0m     verbose\u001b[39m=\u001b[39;49m\u001b[39mself\u001b[39;49m\u001b[39m.\u001b[39;49mverbose,\n\u001b[1;32m    459\u001b[0m     prefer\u001b[39m=\u001b[39;49m\u001b[39m\"\u001b[39;49m\u001b[39mthreads\u001b[39;49m\u001b[39m\"\u001b[39;49m,\n\u001b[1;32m    460\u001b[0m )(\n\u001b[1;32m    461\u001b[0m     delayed(_parallel_build_trees)(\n\u001b[1;32m    462\u001b[0m         t,\n\u001b[1;32m    463\u001b[0m         \u001b[39mself\u001b[39;49m\u001b[39m.\u001b[39;49mbootstrap,\n\u001b[1;32m    464\u001b[0m         X,\n\u001b[1;32m    465\u001b[0m         y,\n\u001b[1;32m    466\u001b[0m         sample_weight,\n\u001b[1;32m    467\u001b[0m         i,\n\u001b[1;32m    468\u001b[0m         \u001b[39mlen\u001b[39;49m(trees),\n\u001b[1;32m    469\u001b[0m         verbose\u001b[39m=\u001b[39;49m\u001b[39mself\u001b[39;49m\u001b[39m.\u001b[39;49mverbose,\n\u001b[1;32m    470\u001b[0m         class_weight\u001b[39m=\u001b[39;49m\u001b[39mself\u001b[39;49m\u001b[39m.\u001b[39;49mclass_weight,\n\u001b[1;32m    471\u001b[0m         n_samples_bootstrap\u001b[39m=\u001b[39;49mn_samples_bootstrap,\n\u001b[1;32m    472\u001b[0m     )\n\u001b[1;32m    473\u001b[0m     \u001b[39mfor\u001b[39;49;00m i, t \u001b[39min\u001b[39;49;00m \u001b[39menumerate\u001b[39;49m(trees)\n\u001b[1;32m    474\u001b[0m )\n\u001b[1;32m    476\u001b[0m \u001b[39m# Collect newly grown trees\u001b[39;00m\n\u001b[1;32m    477\u001b[0m \u001b[39mself\u001b[39m\u001b[39m.\u001b[39mestimators_\u001b[39m.\u001b[39mextend(trees)\n",
      "File \u001b[0;32m~/Library/Python/3.8/lib/python/site-packages/sklearn/utils/parallel.py:65\u001b[0m, in \u001b[0;36mParallel.__call__\u001b[0;34m(self, iterable)\u001b[0m\n\u001b[1;32m     60\u001b[0m config \u001b[39m=\u001b[39m get_config()\n\u001b[1;32m     61\u001b[0m iterable_with_config \u001b[39m=\u001b[39m (\n\u001b[1;32m     62\u001b[0m     (_with_config(delayed_func, config), args, kwargs)\n\u001b[1;32m     63\u001b[0m     \u001b[39mfor\u001b[39;00m delayed_func, args, kwargs \u001b[39min\u001b[39;00m iterable\n\u001b[1;32m     64\u001b[0m )\n\u001b[0;32m---> 65\u001b[0m \u001b[39mreturn\u001b[39;00m \u001b[39msuper\u001b[39;49m()\u001b[39m.\u001b[39;49m\u001b[39m__call__\u001b[39;49m(iterable_with_config)\n",
      "File \u001b[0;32m~/Library/Python/3.8/lib/python/site-packages/joblib/parallel.py:1863\u001b[0m, in \u001b[0;36mParallel.__call__\u001b[0;34m(self, iterable)\u001b[0m\n\u001b[1;32m   1861\u001b[0m     output \u001b[39m=\u001b[39m \u001b[39mself\u001b[39m\u001b[39m.\u001b[39m_get_sequential_output(iterable)\n\u001b[1;32m   1862\u001b[0m     \u001b[39mnext\u001b[39m(output)\n\u001b[0;32m-> 1863\u001b[0m     \u001b[39mreturn\u001b[39;00m output \u001b[39mif\u001b[39;00m \u001b[39mself\u001b[39m\u001b[39m.\u001b[39mreturn_generator \u001b[39melse\u001b[39;00m \u001b[39mlist\u001b[39;49m(output)\n\u001b[1;32m   1865\u001b[0m \u001b[39m# Let's create an ID that uniquely identifies the current call. If the\u001b[39;00m\n\u001b[1;32m   1866\u001b[0m \u001b[39m# call is interrupted early and that the same instance is immediately\u001b[39;00m\n\u001b[1;32m   1867\u001b[0m \u001b[39m# re-used, this id will be used to prevent workers that were\u001b[39;00m\n\u001b[1;32m   1868\u001b[0m \u001b[39m# concurrently finalizing a task from the previous call to run the\u001b[39;00m\n\u001b[1;32m   1869\u001b[0m \u001b[39m# callback.\u001b[39;00m\n\u001b[1;32m   1870\u001b[0m \u001b[39mwith\u001b[39;00m \u001b[39mself\u001b[39m\u001b[39m.\u001b[39m_lock:\n",
      "File \u001b[0;32m~/Library/Python/3.8/lib/python/site-packages/joblib/parallel.py:1792\u001b[0m, in \u001b[0;36mParallel._get_sequential_output\u001b[0;34m(self, iterable)\u001b[0m\n\u001b[1;32m   1790\u001b[0m \u001b[39mself\u001b[39m\u001b[39m.\u001b[39mn_dispatched_batches \u001b[39m+\u001b[39m\u001b[39m=\u001b[39m \u001b[39m1\u001b[39m\n\u001b[1;32m   1791\u001b[0m \u001b[39mself\u001b[39m\u001b[39m.\u001b[39mn_dispatched_tasks \u001b[39m+\u001b[39m\u001b[39m=\u001b[39m \u001b[39m1\u001b[39m\n\u001b[0;32m-> 1792\u001b[0m res \u001b[39m=\u001b[39m func(\u001b[39m*\u001b[39;49margs, \u001b[39m*\u001b[39;49m\u001b[39m*\u001b[39;49mkwargs)\n\u001b[1;32m   1793\u001b[0m \u001b[39mself\u001b[39m\u001b[39m.\u001b[39mn_completed_tasks \u001b[39m+\u001b[39m\u001b[39m=\u001b[39m \u001b[39m1\u001b[39m\n\u001b[1;32m   1794\u001b[0m \u001b[39mself\u001b[39m\u001b[39m.\u001b[39mprint_progress()\n",
      "File \u001b[0;32m~/Library/Python/3.8/lib/python/site-packages/sklearn/utils/parallel.py:127\u001b[0m, in \u001b[0;36m_FuncWrapper.__call__\u001b[0;34m(self, *args, **kwargs)\u001b[0m\n\u001b[1;32m    125\u001b[0m     config \u001b[39m=\u001b[39m {}\n\u001b[1;32m    126\u001b[0m \u001b[39mwith\u001b[39;00m config_context(\u001b[39m*\u001b[39m\u001b[39m*\u001b[39mconfig):\n\u001b[0;32m--> 127\u001b[0m     \u001b[39mreturn\u001b[39;00m \u001b[39mself\u001b[39;49m\u001b[39m.\u001b[39;49mfunction(\u001b[39m*\u001b[39;49margs, \u001b[39m*\u001b[39;49m\u001b[39m*\u001b[39;49mkwargs)\n",
      "File \u001b[0;32m~/Library/Python/3.8/lib/python/site-packages/sklearn/ensemble/_forest.py:188\u001b[0m, in \u001b[0;36m_parallel_build_trees\u001b[0;34m(tree, bootstrap, X, y, sample_weight, tree_idx, n_trees, verbose, class_weight, n_samples_bootstrap)\u001b[0m\n\u001b[1;32m    185\u001b[0m     \u001b[39melif\u001b[39;00m class_weight \u001b[39m==\u001b[39m \u001b[39m\"\u001b[39m\u001b[39mbalanced_subsample\u001b[39m\u001b[39m\"\u001b[39m:\n\u001b[1;32m    186\u001b[0m         curr_sample_weight \u001b[39m*\u001b[39m\u001b[39m=\u001b[39m compute_sample_weight(\u001b[39m\"\u001b[39m\u001b[39mbalanced\u001b[39m\u001b[39m\"\u001b[39m, y, indices\u001b[39m=\u001b[39mindices)\n\u001b[0;32m--> 188\u001b[0m     tree\u001b[39m.\u001b[39;49mfit(X, y, sample_weight\u001b[39m=\u001b[39;49mcurr_sample_weight, check_input\u001b[39m=\u001b[39;49m\u001b[39mFalse\u001b[39;49;00m)\n\u001b[1;32m    189\u001b[0m \u001b[39melse\u001b[39;00m:\n\u001b[1;32m    190\u001b[0m     tree\u001b[39m.\u001b[39mfit(X, y, sample_weight\u001b[39m=\u001b[39msample_weight, check_input\u001b[39m=\u001b[39m\u001b[39mFalse\u001b[39;00m)\n",
      "File \u001b[0;32m~/Library/Python/3.8/lib/python/site-packages/sklearn/base.py:1152\u001b[0m, in \u001b[0;36m_fit_context.<locals>.decorator.<locals>.wrapper\u001b[0;34m(estimator, *args, **kwargs)\u001b[0m\n\u001b[1;32m   1145\u001b[0m     estimator\u001b[39m.\u001b[39m_validate_params()\n\u001b[1;32m   1147\u001b[0m \u001b[39mwith\u001b[39;00m config_context(\n\u001b[1;32m   1148\u001b[0m     skip_parameter_validation\u001b[39m=\u001b[39m(\n\u001b[1;32m   1149\u001b[0m         prefer_skip_nested_validation \u001b[39mor\u001b[39;00m global_skip_validation\n\u001b[1;32m   1150\u001b[0m     )\n\u001b[1;32m   1151\u001b[0m ):\n\u001b[0;32m-> 1152\u001b[0m     \u001b[39mreturn\u001b[39;00m fit_method(estimator, \u001b[39m*\u001b[39;49margs, \u001b[39m*\u001b[39;49m\u001b[39m*\u001b[39;49mkwargs)\n",
      "File \u001b[0;32m~/Library/Python/3.8/lib/python/site-packages/sklearn/tree/_classes.py:959\u001b[0m, in \u001b[0;36mDecisionTreeClassifier.fit\u001b[0;34m(self, X, y, sample_weight, check_input)\u001b[0m\n\u001b[1;32m    928\u001b[0m \u001b[39m@_fit_context\u001b[39m(prefer_skip_nested_validation\u001b[39m=\u001b[39m\u001b[39mTrue\u001b[39;00m)\n\u001b[1;32m    929\u001b[0m \u001b[39mdef\u001b[39;00m \u001b[39mfit\u001b[39m(\u001b[39mself\u001b[39m, X, y, sample_weight\u001b[39m=\u001b[39m\u001b[39mNone\u001b[39;00m, check_input\u001b[39m=\u001b[39m\u001b[39mTrue\u001b[39;00m):\n\u001b[1;32m    930\u001b[0m \u001b[39m    \u001b[39m\u001b[39m\"\"\"Build a decision tree classifier from the training set (X, y).\u001b[39;00m\n\u001b[1;32m    931\u001b[0m \n\u001b[1;32m    932\u001b[0m \u001b[39m    Parameters\u001b[39;00m\n\u001b[0;32m   (...)\u001b[0m\n\u001b[1;32m    956\u001b[0m \u001b[39m        Fitted estimator.\u001b[39;00m\n\u001b[1;32m    957\u001b[0m \u001b[39m    \"\"\"\u001b[39;00m\n\u001b[0;32m--> 959\u001b[0m     \u001b[39msuper\u001b[39;49m()\u001b[39m.\u001b[39;49m_fit(\n\u001b[1;32m    960\u001b[0m         X,\n\u001b[1;32m    961\u001b[0m         y,\n\u001b[1;32m    962\u001b[0m         sample_weight\u001b[39m=\u001b[39;49msample_weight,\n\u001b[1;32m    963\u001b[0m         check_input\u001b[39m=\u001b[39;49mcheck_input,\n\u001b[1;32m    964\u001b[0m     )\n\u001b[1;32m    965\u001b[0m     \u001b[39mreturn\u001b[39;00m \u001b[39mself\u001b[39m\n",
      "File \u001b[0;32m~/Library/Python/3.8/lib/python/site-packages/sklearn/tree/_classes.py:443\u001b[0m, in \u001b[0;36mBaseDecisionTree._fit\u001b[0;34m(self, X, y, sample_weight, check_input, missing_values_in_feature_mask)\u001b[0m\n\u001b[1;32m    432\u001b[0m \u001b[39melse\u001b[39;00m:\n\u001b[1;32m    433\u001b[0m     builder \u001b[39m=\u001b[39m BestFirstTreeBuilder(\n\u001b[1;32m    434\u001b[0m         splitter,\n\u001b[1;32m    435\u001b[0m         min_samples_split,\n\u001b[0;32m   (...)\u001b[0m\n\u001b[1;32m    440\u001b[0m         \u001b[39mself\u001b[39m\u001b[39m.\u001b[39mmin_impurity_decrease,\n\u001b[1;32m    441\u001b[0m     )\n\u001b[0;32m--> 443\u001b[0m builder\u001b[39m.\u001b[39;49mbuild(\u001b[39mself\u001b[39;49m\u001b[39m.\u001b[39;49mtree_, X, y, sample_weight, missing_values_in_feature_mask)\n\u001b[1;32m    445\u001b[0m \u001b[39mif\u001b[39;00m \u001b[39mself\u001b[39m\u001b[39m.\u001b[39mn_outputs_ \u001b[39m==\u001b[39m \u001b[39m1\u001b[39m \u001b[39mand\u001b[39;00m is_classifier(\u001b[39mself\u001b[39m):\n\u001b[1;32m    446\u001b[0m     \u001b[39mself\u001b[39m\u001b[39m.\u001b[39mn_classes_ \u001b[39m=\u001b[39m \u001b[39mself\u001b[39m\u001b[39m.\u001b[39mn_classes_[\u001b[39m0\u001b[39m]\n",
      "\u001b[0;31mKeyboardInterrupt\u001b[0m: "
     ]
    }
   ],
   "source": [
    "# # Create Grid Search function for Random Forest Classifier\n",
    "\n",
    "rfc = RandomForestClassifier(random_state = 42)\n",
    "\n",
    "param_grid = {\n",
    "     'n_estimators' : [100 , 500 , 1000],\n",
    "     'criterion' : ['gini' , 'entropy'],\n",
    "     'max_depth' : [None , 10 , 20],\n",
    "     'max_features' :['sqrt', 'log2', None],\n",
    "     'min_samples_split' : [2 , 5 ,10],\n",
    "     'min_samples_leaf' : [1 , 5 ,10 ,20]\n",
    " }\n",
    "\n",
    "grid_search = GridSearchCV(estimator = rfc , param_grid = param_grid , cv = 5 , n_jobs = 1)\n",
    "grid_search.fit(X_train_encoded , y_train)\n",
    "\n",
    "best_model = grid_search.best_estimator_\n",
    "\n",
    "y_pred = best_model.predict(X_test_encoded)"
   ]
  },
  {
   "cell_type": "markdown",
   "metadata": {},
   "source": [
    "You can also explore deep learning techniques like neural networks for more complex modeling."
   ]
  },
  {
   "cell_type": "markdown",
   "metadata": {},
   "source": [
    "Model Training:"
   ]
  },
  {
   "cell_type": "markdown",
   "metadata": {},
   "source": [
    "Train the selected model on the training data using appropriate hyperparameters."
   ]
  },
  {
   "cell_type": "markdown",
   "metadata": {},
   "source": [
    "Monitor the model's performance on the validation set to avoid overfitting."
   ]
  },
  {
   "cell_type": "markdown",
   "metadata": {},
   "source": [
    "Model Evaluation:"
   ]
  },
  {
   "cell_type": "markdown",
   "metadata": {},
   "source": [
    "Assess the model's performance using relevant evaluation metrics, such as accuracy, precision, recall, F1 score, or the area under the ROC curve."
   ]
  },
  {
   "cell_type": "markdown",
   "metadata": {},
   "source": [
    "Use cross-validation to ensure the model's generalizability."
   ]
  },
  {
   "cell_type": "markdown",
   "metadata": {},
   "source": [
    "Hyperparameter Tuning:"
   ]
  },
  {
   "cell_type": "markdown",
   "metadata": {},
   "source": [
    "Optimize the model's hyperparameters to improve its predictive accuracy and generalization."
   ]
  },
  {
   "cell_type": "markdown",
   "metadata": {},
   "source": [
    "Model Deployment:"
   ]
  },
  {
   "cell_type": "markdown",
   "metadata": {},
   "source": [
    "Deploy the trained model to make predictions on new loan applications. The deployment can be integrated into the loan approval process."
   ]
  },
  {
   "cell_type": "markdown",
   "metadata": {},
   "source": [
    "Monitoring and Maintenance:"
   ]
  },
  {
   "cell_type": "markdown",
   "metadata": {},
   "source": [
    "Continuously monitor the model's performance and update it as needed to adapt to changing borrower behavior and economic conditions."
   ]
  },
  {
   "cell_type": "markdown",
   "metadata": {},
   "source": [
    "Periodically retrain the model on new data to keep it up-to-date."
   ]
  },
  {
   "cell_type": "markdown",
   "metadata": {},
   "source": [
    "Fairness and Ethical Considerations:"
   ]
  },
  {
   "cell_type": "markdown",
   "metadata": {},
   "source": [
    "Ensure that the model is fair and transparent in its decisions, and that it does not lead to discrimination or biased outcomes. Implement measures to mitigate these risks.\n"
   ]
  },
  {
   "cell_type": "markdown",
   "metadata": {},
   "source": [
    "Compliance and Regulations:"
   ]
  },
  {
   "cell_type": "markdown",
   "metadata": {},
   "source": [
    "Keep up-to-date with lending regulations and ensure that your model complies with them."
   ]
  },
  {
   "cell_type": "code",
   "execution_count": null,
   "metadata": {},
   "outputs": [],
   "source": [
    "from sklearn.feature_extraction.text import TfidfVectorizer\n",
    "from sklearn.feature_extraction.text import CountVectorizer\n",
    "from sklearn.naive_bayes import MultinomialNB\n",
    "from sklearn.naive_bayes import GaussianNB\n",
    "#from imblearn.over_sampling import SMOTE\n",
    "from sklearn.multiclass import OneVsRestClassifier\n",
    "\n",
    "from sklearn.metrics import make_scorer,f1_score, accuracy_score,auc, confusion_matrix\n",
    "from sklearn.model_selection import train_test_split\n",
    "from sklearn.ensemble import RandomForestClassifier\n",
    "from sklearn.ensemble import RandomForestRegressor\n",
    "from sklearn.tree import DecisionTreeRegressor\n",
    "from sklearn.tree import DecisionTreeClassifier\n",
    "from sklearn.tree import ExtraTreeClassifier\n",
    "from sklearn.ensemble import AdaBoostClassifier\n",
    "from sklearn.ensemble import BaggingClassifier\n",
    "from sklearn.ensemble import ExtraTreesClassifier\n",
    "from sklearn.metrics import classification_report\n",
    "\n",
    "from sklearn.compose import ColumnTransformer \n",
    "#from imblearn.over_sampling import SMOTE\n",
    "from scipy import stats\n",
    "#import xgboost as xgb\n",
    "import sklearn\n",
    "     "
   ]
  }
 ],
 "metadata": {
  "kernelspec": {
   "display_name": "Python 3",
   "language": "python",
   "name": "python3"
  },
  "language_info": {
   "codemirror_mode": {
    "name": "ipython",
    "version": 3
   },
   "file_extension": ".py",
   "mimetype": "text/x-python",
   "name": "python",
   "nbconvert_exporter": "python",
   "pygments_lexer": "ipython3",
   "version": "3.8.2"
  }
 },
 "nbformat": 4,
 "nbformat_minor": 2
}
